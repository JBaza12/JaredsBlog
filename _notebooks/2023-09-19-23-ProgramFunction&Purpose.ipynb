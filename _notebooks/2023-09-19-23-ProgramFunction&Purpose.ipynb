{
 "cells": [
  {
   "cell_type": "markdown",
   "metadata": {},
   "source": [
    "---\n",
    "toc: True\n",
    "comments: False\n",
    "layout: post\n",
    "title: Program Function and Purpose\n",
    "description: This is the program function and purpose for python\n",
    "type: hacks\n",
    "courses: {'compsci': {'week': 4}}\n",
    "---"
   ]
  },
  {
   "cell_type": "code",
   "execution_count": 3,
   "metadata": {},
   "outputs": [
    {
     "name": "stdout",
     "output_type": "stream",
     "text": [
      "Hello, I am x\n"
     ]
    }
   ],
   "source": [
    "#Program with Output\n",
    "\n",
    "x = (\"Hello, I am x\")\n",
    "print(x)"
   ]
  },
  {
   "cell_type": "markdown",
   "metadata": {},
   "source": [
    "- This progame defines the variable x and then prints x"
   ]
  },
  {
   "cell_type": "code",
   "execution_count": 1,
   "metadata": {},
   "outputs": [
    {
     "name": "stdout",
     "output_type": "stream",
     "text": [
      "What's your favorite number? 16\n",
      "16 is a very cool number!\n"
     ]
    }
   ],
   "source": [
    "#Program with Input and Output\n",
    "x = int(input(\"What's your favorite number? \"))\n",
    "print(x, \"is a very cool number!\")"
   ]
  },
  {
   "cell_type": "markdown",
   "metadata": {},
   "source": [
    "- This code takes the users input, defines it as a interger, and prints a message\n",
    "- You type in your favorite integer and then it prints a message saying your favorite number is a very cool number"
   ]
  },
  {
   "cell_type": "code",
   "execution_count": 2,
   "metadata": {},
   "outputs": [
    {
     "name": "stdout",
     "output_type": "stream",
     "text": [
      "Current Fruits List ['Apple', 'Banana']\n",
      "Please enter a fruit name:\n",
      "Strawberry\n",
      "Updated Fruits List ['Apple', 'Banana', 'Strawberry']\n"
     ]
    }
   ],
   "source": [
    "#Program with a List\n",
    "fruit_list = [\"Apple\", \"Banana\"]\n",
    "\n",
    "print(f'Current Fruits List {fruit_list}')\n",
    "\n",
    "new_fruit = input(\"Please enter a fruit name:\\n\")\n",
    "\n",
    "fruit_list.append(new_fruit)\n",
    "\n",
    "print(f'Updated Fruits List {fruit_list}')\n"
   ]
  },
  {
   "cell_type": "markdown",
   "metadata": {},
   "source": [
    "- This code is making a list called 'fruit_list' and adding another fruit to it\n",
    "- It takes the users input and then adds that new fruit the user provided back into the list\n",
    "- It prints the original list and then the new updated list"
   ]
  },
  {
   "cell_type": "code",
   "execution_count": 3,
   "metadata": {},
   "outputs": [
    {
     "name": "stdout",
     "output_type": "stream",
     "text": [
      "{'Lionel Messi': 'FC Barcelona', 'Christiano Ronaldo': 'Real Madrid', 'Neymar Jr': 'PSG'}\n",
      "FC Barcelona\n",
      "3\n"
     ]
    }
   ],
   "source": [
    "#Program with a Dictionary\n",
    "spbc = {\n",
    "    \"Lionel Messi\" : \"FC Barcelona\",\n",
    "    \"Christiano Ronaldo\" : \"Real Madrid\",\n",
    "    \"Neymar Jr\" : \"PSG\"\n",
    "}\n",
    "print(spbc)\n",
    "print(spbc[\"Lionel Messi\"])\n",
    "print(len(spbc))"
   ]
  },
  {
   "cell_type": "markdown",
   "metadata": {},
   "source": [
    "- This code defines a dictionary, spbc(Soccer players best club), and then proceeds to print it, find and print what Lionel Messis's club was, and then print the length of the dictionary"
   ]
  },
  {
   "cell_type": "code",
   "execution_count": 5,
   "metadata": {},
   "outputs": [
    {
     "name": "stdout",
     "output_type": "stream",
     "text": [
      "Pick a number lower of higher than 10: 10\n",
      "You couldn't follow simple directions, bad job\n"
     ]
    }
   ],
   "source": [
    "#Program with Iteration\n",
    "x = int(input(\"Pick a number lower of higher than 10: \"))\n",
    "if x > 10 or x < 10:\n",
    "    print('Well done, you followed the simple rules')\n",
    "elif x == 10:\n",
    "    print(\"You couldn't follow simple directions, bad job\")"
   ]
  },
  {
   "cell_type": "markdown",
   "metadata": {},
   "source": [
    "- This code here grab an input from the user and determines whether or not the users input follows the criteria of the if statement\n",
    "- The user is told to choose a number lower or higher than 10, and if they do, they are rewarded with a message that tells them good job\n",
    "- If the user enters 10, then they are frowned upon and are told they couldn't follow simple directions"
   ]
  },
  {
   "cell_type": "code",
   "execution_count": 1,
   "metadata": {},
   "outputs": [
    {
     "name": "stdout",
     "output_type": "stream",
     "text": [
      "Please follow the simple directions given\n"
     ]
    }
   ],
   "source": [
    "#Program with a Function to perform mathematical and/or a statistical calculations, contains a condition\n",
    "inp = input(\"Would you like to add, subtract, multiply, or divide two numbers today?\")\n",
    "\n",
    "#If the user decides they want to add two number, this if statement will run\n",
    "if inp == \"Add\" or inp == \"add\":\n",
    "    x = int(input(\"Pick the first number you would like to add: \"))\n",
    "    y = int(input(\"Pick the second number you would like to add: \"))\n",
    "    z = x + y\n",
    "    print(\"Your answer is\", z)\n",
    "    \n",
    "#If the user decides they want to subtract two number, this if statement will run\n",
    "elif inp == \"Subtract\" or inp == \"subtract\":\n",
    "    a = int(input(\"Pick the first number you would like to subtract: \"))\n",
    "    b = int(input(\"Pick the second number you would like to subtract: \"))\n",
    "    c = a - b\n",
    "    print(\"Your answer is\", c)\n",
    "elif inp == \"Multiply\" or inp == \"multiply\":\n",
    "    a = int(input(\"Pick the first number you would like to multiply: \"))\n",
    "    b = int(input(\"Pick the second number you would like to multiply: \"))\n",
    "    c = a * b\n",
    "    print(\"Your answer will be\", c)\n",
    "elif inp == \"Divide\" or inp == \"divide\":\n",
    "    a = int(input(\"Pick the first number you would like to divide: \"))\n",
    "    b = int(input(\"Pick the second number you would like to divide: \"))\n",
    "    c = a/b\n",
    "    print(\"Your answer is\", c)\n",
    "else:\n",
    "    print(\"Please follow the simple directions given\")\n"
   ]
  },
  {
   "cell_type": "markdown",
   "metadata": {},
   "source": [
    "- This code is a calculator and can add, subtract, multiply, and subtract\n",
    "- It grabs input from the user that asks what mathematical procedure they would like to execute and then it runs the if statement that matches the users request. "
   ]
  },
  {
   "cell_type": "code",
   "execution_count": 1,
   "metadata": {},
   "outputs": [
    {
     "name": "stdout",
     "output_type": "stream",
     "text": [
      "You've picked rock, and I picked rock.\n",
      "The game is a tie! You are a most worthy opponent!\n",
      "You have 0 wins, 0 losses, and 1 ties.\n",
      "You are weak!\n",
      "You are weak!\n",
      "Invalid input!\n",
      "\n",
      "Invalid input!\n",
      "\n",
      "Invalid input!\n",
      "\n",
      "Invalid input!\n",
      "\n",
      "Invalid input!\n",
      "\n",
      "Invalid input!\n",
      "\n",
      "Invalid input!\n",
      "\n",
      "Invalid input!\n",
      "\n",
      "Invalid input!\n",
      "\n",
      "Invalid input!\n",
      "\n",
      "Invalid input!\n",
      "\n",
      "Invalid input!\n",
      "\n",
      "Invalid input!\n",
      "\n",
      "Invalid input!\n",
      "\n",
      "Invalid input!\n",
      "\n",
      "You are weak!\n",
      "Invalid input!\n",
      "\n",
      "Invalid input!\n",
      "\n",
      "Invalid input!\n",
      "\n",
      "Invalid input!\n",
      "\n",
      "Invalid input!\n",
      "\n",
      "Invalid input!\n",
      "\n"
     ]
    }
   ],
   "source": [
    "import random\n",
    "\n",
    "\n",
    "class RockPaperScissors:\n",
    "    \"\"\"\n",
    "    Class to handle an instance of a Rock-Paper-Scissors game\n",
    "    with unlimited rounds.\n",
    "    \"\"\"\n",
    "\n",
    "    def __init__(self):\n",
    "        \"\"\"\n",
    "        Initialize the variables for the class\n",
    "        \"\"\"\n",
    "        self.wins = 0\n",
    "        self.losses = 0\n",
    "        self.ties = 0\n",
    "        self.options = {'rock': 0, 'paper': 1, 'scissors': 2}\n",
    "\n",
    "    def random_choice(self):\n",
    "        \"\"\"\n",
    "        Chooses a choice randomly from the keys in self.options.\n",
    "        :returns: String containing the choice of the computer.\n",
    "        \"\"\"\n",
    "\n",
    "        return random.choice(list(self.options.keys()))\n",
    "\n",
    "    def check_win(self, player, opponent):\n",
    "        \"\"\"\n",
    "        Check if the player wins or loses.\n",
    "        :param player: Numeric representation of player choice from self.options\n",
    "        :param opponent: Numeric representation of computer choice from self.options\n",
    "        :return: Nothing, but will print whether win or lose.\n",
    "        \"\"\"\n",
    "\n",
    "        result = (player - opponent) % 3\n",
    "        if result == 0:\n",
    "            self.ties += 1\n",
    "            print(\"The game is a tie! You are a most worthy opponent!\")\n",
    "        elif result == 1:\n",
    "            self.wins += 1\n",
    "            print(\"You win! My honor demands a rematch!\")\n",
    "        elif result == 2:\n",
    "            self.losses += 1\n",
    "            print(\"Haha, I am victorious! Dare you challenge me again?\")\n",
    "\n",
    "    def print_score(self):\n",
    "        \"\"\"\n",
    "        Prints a string reflecting the current player score.\n",
    "        :return: Nothing, just prints current score.\n",
    "        \"\"\"\n",
    "        print(f\"You have {self.wins} wins, {self.losses} losses, and \"\n",
    "              f\"{self.ties} ties.\")\n",
    "\n",
    "    def run_game(self):\n",
    "        \"\"\"\n",
    "        Plays a round of Rock-Paper-Scissors with the computer.\n",
    "        :return: Nothing\n",
    "        \"\"\"\n",
    "        while True:\n",
    "            userchoice = input(\"Choices are 'rock', 'paper', or 'scissors'.\\n\"\n",
    "                               \"Which do you choose? \").lower()\n",
    "            if userchoice not in self.options.keys():\n",
    "                print(\"Invalid input, try again!\")\n",
    "            else:\n",
    "                break\n",
    "        opponent_choice = self.random_choice()\n",
    "        print(f\"You've picked {userchoice}, and I picked {opponent_choice}.\")\n",
    "        self.check_win(self.options[userchoice], self.options[opponent_choice])\n",
    "\n",
    "\n",
    "if __name__ == \"__main__\":\n",
    "    game = RockPaperScissors()\n",
    "    while True:\n",
    "        game.run_game()\n",
    "        game.print_score()\n",
    "\n",
    "        while True:\n",
    "\n",
    "            continue_prompt = input('\\nDo you wish to play again? (y/n): ').lower()\n",
    "            if continue_prompt == 'n':\n",
    "                print(\"You are weak!\")\n",
    "                exit()\n",
    "            elif continue_prompt == 'y':\n",
    "                break\n",
    "            else:\n",
    "                print(\"Invalid input!\\n\")\n",
    "                continue"
   ]
  },
  {
   "cell_type": "markdown",
   "metadata": {},
   "source": [
    "- The code defines a text-based Rock-Paper-Scissors game where the player competes against a computer opponent.\n",
    "- It uses a class called RockPaperScissors to manage the game, keep track of wins, losses, and ties, and handle player and computer choices.\n",
    "- The game allows players to play multiple rounds and keeps a running score, providing an option to continue or exit after each round.\n",
    "- The computer's choice is determined randomly using the random module, and the game logic is implemented to determine the winner of each round."
   ]
  }
 ],
 "metadata": {
  "kernelspec": {
   "display_name": "Python 3 (ipykernel)",
   "language": "python",
   "name": "python3"
  },
  "language_info": {
   "codemirror_mode": {
    "name": "ipython",
    "version": 3
   },
   "file_extension": ".py",
   "mimetype": "text/x-python",
   "name": "python",
   "nbconvert_exporter": "python",
   "pygments_lexer": "ipython3",
   "version": "3.10.12"
  }
 },
 "nbformat": 4,
 "nbformat_minor": 2
}
