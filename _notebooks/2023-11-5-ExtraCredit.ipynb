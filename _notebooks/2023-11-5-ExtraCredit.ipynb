{
 "cells": [
  {
   "cell_type": "markdown",
   "metadata": {},
   "source": [
    "---\n",
    "toc: true\n",
    "comments: true\n",
    "layout: post\n",
    "title: Final Weeks Plan(Qualification Weeks)\n",
    "description:  Here is a quick plan of what me and my group aim to complete in the last weeks of trimester 1 of CSP\n",
    "courses: { compsci: {week: 8} }\n",
    "type: plans\n",
    "---"
   ]
  },
  {
   "cell_type": "markdown",
   "metadata": {},
   "source": [
    "# Extra groups outside of my class I graded:\n",
    "\n",
    "# Period 1: Aidan, Rayyan, Nathan, Daniel\n",
    ">\n",
    "\n",
    "# Period 2: Saaras, Andrew, William, Ryan, Daniel\n",
    ">\n",
    "\n",
    "# Period 2: Dante, Jordan, Jake, Ethan\n",
    ">"
   ]
  }
 ],
 "metadata": {
  "kernelspec": {
   "display_name": "Python 3",
   "language": "python",
   "name": "python3"
  },
  "language_info": {
   "codemirror_mode": {
    "name": "ipython",
    "version": 3
   },
   "file_extension": ".py",
   "mimetype": "text/x-python",
   "name": "python",
   "nbconvert_exporter": "python",
   "pygments_lexer": "ipython3",
   "version": "3.10.12"
  },
  "orig_nbformat": 4
 },
 "nbformat": 4,
 "nbformat_minor": 2
}
