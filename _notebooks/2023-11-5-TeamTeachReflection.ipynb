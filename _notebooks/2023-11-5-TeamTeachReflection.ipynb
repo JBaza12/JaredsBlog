{
 "cells": [
  {
   "cell_type": "markdown",
   "metadata": {},
   "source": [
    "---\n",
    "toc: true\n",
    "comments: true\n",
    "layout: post\n",
    "title: Team Teach Reflections\n",
    "description:  This is a reflection of each of the team teach's we went over in class\n",
    "courses: { compsci: {week: 8} }\n",
    "type: tangibles\n",
    "---"
   ]
  },
  {
   "cell_type": "markdown",
   "metadata": {},
   "source": [
    "## Plan for Quiz\n",
    "> For this quiz, in order to prepare, I plan on reviewing each of the team teaches(accesible through my student each blog page) and read/go through them to solodify my understading on each one. Then, if I still have questions, I will go to college board and watch the vieos for better support. I will go through the quiz and write down the questions I needed help on and write a sentence or two on why is was difficult and what I learned from it. Sort of like a quick reflection on each of the problems I couldn't do."
   ]
  }
 ],
 "metadata": {
  "kernelspec": {
   "display_name": "Python 3",
   "language": "python",
   "name": "python3"
  },
  "language_info": {
   "codemirror_mode": {
    "name": "ipython",
    "version": 3
   },
   "file_extension": ".py",
   "mimetype": "text/x-python",
   "name": "python",
   "nbconvert_exporter": "python",
   "pygments_lexer": "ipython3",
   "version": "3.10.12"
  },
  "orig_nbformat": 4
 },
 "nbformat": 4,
 "nbformat_minor": 2
}
