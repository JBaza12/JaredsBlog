{
 "cells": [
  {
   "cell_type": "markdown",
   "metadata": {},
   "source": [
    "---\n",
    "toc: true\n",
    "comments: true\n",
    "layout: post\n",
    "title: Final Weeks Plan(Qualification Weeks)\n",
    "description:  Here is a quick plan of what me and my group aim to complete in the last weeks of trimester 1 of CSP\n",
    "courses: { compsci: {week: 8} }\n",
    "type: plans\n",
    "---"
   ]
  },
  {
   "cell_type": "markdown",
   "metadata": {},
   "source": [
    "# Plan for the next two weeks\n",
    "\n",
    "## Week 1:\n",
    "\n",
    "> Monday (M):\n",
    "\n",
    "- Start by reviewing our final project documentation and make sure all project requirements are met. Double-check that we've included all elements in our Pokemon website, such as the Pokemon API integration, the game feature, the quiz section, and the pack opening simulation. Make necessary updates if needed.\n",
    "Briefly summarize the final project's goals and main features to ensure a solid understanding.\n",
    "\n",
    "> Tuesday (Tu):\n",
    "\n",
    "- Dive into preparing for our student teaching session on \"Developing Programs.\" This is an excellent opportunity to showcase our knowledge and teaching abilities. Collaborate with the teaching team to ensure a smooth delivery. Prepare engaging slides, examples, and activities to make the topic interesting and understandable for our peers.\n",
    "Practice the presentation at least once, and gather feedback to refine it further.\n",
    "\n",
    "> Wednesday (W):\n",
    "\n",
    "- During integration reviews, pay close attention to the N@tM qualification opportunity. The more qualifications we have, the better our chances of making a strong impact during the Night at the Museum event. This is a fantastic opportunity to show our capabilities.\n",
    "\n",
    "- Explore the AP Classroom \"Finals Day\" exam format and materials to better understand what we'll be facing.\n",
    "\n",
    "> Thursday (Th):\n",
    "\n",
    "- The student teaching session on \"Libraries\" is approaching. Begin researching and preparing the content for this session. Focus on highlighting the significance of libraries in programming and provide clear examples.\n",
    "\n",
    "- Create visually appealing materials to complement our presentation and facilitate learning.\n",
    "\n",
    "> Friday (F):\n",
    "\n",
    "- Allocate some time to further enhance our final project. It's the culminating piece of our efforts, and we want it to shine during the Night at the Museum.\n",
    "In a one-on-one session with the teacher, discuss individual progress. Share dedication to improving and seek any guidance or suggestions for improvement.\n",
    "\n",
    "## Week 2:\n",
    "\n",
    "> Monday (M):\n",
    "\n",
    "- Continue refining and completing our final project. Ensure all components work seamlessly and provide an engaging user experience.\n",
    "Participate in N@tM qualification, demonstrating our expertise. Make sure we have a thorough understanding of the requirements and criteria for qualifications.\n",
    "\n",
    "> Tuesday (Tu):\n",
    "\n",
    "- Finalize our final project, paying close attention to every detail. Test thoroughly to identify and fix any potential issues or bugs.\n",
    "Engage in N@tM qualification, aiming to attain additional qualifications.\n",
    "\n",
    "> Wednesday (W):\n",
    "\n",
    "- NO SCHOOL!!!!\n",
    "\n",
    "> Thursday (Th):\n",
    "\n",
    "- Concentrate on preparing for the team live reviews and dress rehearsal for the Night at the Museum event. This is a key moment to demonstrate our proficiency and expertise in front of an audience.\n",
    "\n",
    "- Ensure the team's presentation is well-coordinated and polished. Provide additional time for practice and address any areas that need improvement.\n",
    "\n",
    "> Friday (F):\n",
    "\n",
    "- Participate in individual reviews (1-2 minutes) with the teacher to receive personalized feedback. Try to highlight my dedication and commitment to continuous improvement.\n",
    "Gear up for the finals week, with a focus on completing the AP Classroom exam, making up for any late work, and actively participating in the Corporate Games. These are great opportunities to showcase your abilities and teamwork.\n"
   ]
  }
 ],
 "metadata": {
  "kernelspec": {
   "display_name": "Python 3",
   "language": "python",
   "name": "python3"
  },
  "language_info": {
   "codemirror_mode": {
    "name": "ipython",
    "version": 3
   },
   "file_extension": ".py",
   "mimetype": "text/x-python",
   "name": "python",
   "nbconvert_exporter": "python",
   "pygments_lexer": "ipython3",
   "version": "3.10.12"
  },
  "orig_nbformat": 4
 },
 "nbformat": 4,
 "nbformat_minor": 2
}
