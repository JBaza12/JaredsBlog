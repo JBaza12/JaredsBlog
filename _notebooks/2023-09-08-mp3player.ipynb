{
 "cells": [
  {
   "cell_type": "markdown",
   "metadata": {},
   "source": [
    "---\n",
    "toc: true\n",
    "comments: false\n",
    "layout: post\n",
    "title: Python MP3 Player\n",
    "description: This is a music player made in python. \n",
    "type: hacks\n",
    "courses: { compsci: {week: 3} }\n",
    "---"
   ]
  },
  {
   "cell_type": "code",
   "execution_count": null,
   "metadata": {},
   "outputs": [],
   "source": [
    "import pygame\n",
    "import os\n",
    "from tkinter import *\n",
    "from tkinter import filedialog\n",
    "from tkinter import ttk  # Import the themed Tkinter module for better styling\n",
    "\n",
    "# Initialize pygame and set the audio driver\n",
    "pygame.init()\n",
    "os.environ['SDL_AUDIODRIVER'] = 'sdl2'  # Use the appropriate audio driver for your system\n",
    "\n",
    "# Create the main window\n",
    "root = Tk()\n",
    "root.title(\"MP3 Player\")\n",
    "\n",
    "# Create a style object for improved button appearance\n",
    "style = ttk.Style()\n",
    "style.configure(\"TButton\", padding=(10, 5))\n",
    "\n",
    "# Create a list to hold the paths of the selected songs\n",
    "playlist = []\n",
    "\n",
    "# Create a function to add songs to the playlist\n",
    "def add_songs():\n",
    "    songs = filedialog.askopenfilenames(filetypes=[(\"MP3 files\", \"*.mp3\")])\n",
    "    for song in songs:\n",
    "        playlist.append(song)\n",
    "        songs_listbox.insert(END, os.path.basename(song))\n",
    "\n",
    "# Create a function to play the selected song\n",
    "def play_song():\n",
    "    global current_song\n",
    "    current_song = playlistbox.curselection()[0]\n",
    "    pygame.mixer.music.load(playlist[current_song])\n",
    "    pygame.mixer.music.play()\n",
    "\n",
    "# Create a function to stop the current song\n",
    "def stop_song():\n",
    "    pygame.mixer.music.stop()\n",
    "\n",
    "# Create a function to pause the current song\n",
    "def pause_song():\n",
    "    pygame.mixer.music.pause()\n",
    "\n",
    "# Create a function to resume the current song\n",
    "def resume_song():\n",
    "    pygame.mixer.music.unpause()\n",
    "\n",
    "# Create a function to play the next song\n",
    "def next_song():\n",
    "    global current_song\n",
    "    current_song += 1\n",
    "    if current_song >= len(playlist):\n",
    "        current_song = 0\n",
    "    pygame.mixer.music.load(playlist[current_song])\n",
    "    pygame.mixer.music.play()\n",
    "\n",
    "# Create a function to play the previous song\n",
    "def prev_song():\n",
    "    global current_song\n",
    "    current_song -= 1\n",
    "    if current_song < 0:\n",
    "        current_song = len(playlist) - 1\n",
    "    pygame.mixer.music.load(playlist[current_song])\n",
    "    pygame.mixer.music.play()\n",
    "\n",
    "# Create buttons with improved styling\n",
    "add_button = ttk.Button(root, text=\"Add Songs\", command=add_songs)\n",
    "play_button = ttk.Button(root, text=\"Play\", command=play_song)\n",
    "stop_button = ttk.Button(root, text=\"Stop\", command=stop_song)\n",
    "pause_button = ttk.Button(root, text=\"Pause\", command=pause_song)\n",
    "resume_button = ttk.Button(root, text=\"Resume\", command=resume_song)\n",
    "next_button = ttk.Button(root, text=\"Next\", command=next_song)\n",
    "prev_button = ttk.Button(root, text=\"Previous\", command=prev_song)\n",
    "\n",
    "# Create a styled listbox\n",
    "songs_listbox = Listbox(root, selectmode=SINGLE, selectbackground=\"gray\")\n",
    "songs_listbox.config(bg=\"black\", fg=\"white\", selectforeground=\"white\", selectbackground=\"gray\")\n",
    "\n",
    "# Place the widgets using the grid layout manager for better alignment\n",
    "add_button.grid(row=0, column=0, padx=10, pady=5)\n",
    "play_button.grid(row=0, column=1, padx=10, pady=5)\n",
    "stop_button.grid(row=0, column=2, padx=10, pady=5)\n",
    "pause_button.grid(row=0, column=3, padx=10, pady=5)\n",
    "resume_button.grid(row=0, column=4, padx=10, pady=5)\n",
    "next_button.grid(row=0, column=5, padx=10, pady=5)\n",
    "prev_button.grid(row=0, column=6, padx=10, pady=5)\n",
    "songs_listbox.grid(row=1, column=0, columnspan=7, padx=10, pady=10)\n",
    "\n",
    "root.mainloop()\n"
   ]
  },
  {
   "cell_type": "markdown",
   "metadata": {},
   "source": [
    "<button type=\"button\" onclick=\"alert('Copy and paste link in new tab file:///C:/Users/jared/Pictures/Screenshots/Screenshot%202023-09-11%20170109.png' )\">Photo of MP3 Player</button>\n"
   ]
  },
  {
   "cell_type": "code",
   "execution_count": null,
   "metadata": {},
   "outputs": [],
   "source": [
    "import pygame\n",
    "import os\n",
    "from tkinter import *\n",
    "from tkinter import filedialog"
   ]
  },
  {
   "cell_type": "markdown",
   "metadata": {},
   "source": [
    "- This first part of the code is just simply importing all the necessary tools such as the pygame library."
   ]
  },
  {
   "cell_type": "code",
   "execution_count": null,
   "metadata": {},
   "outputs": [],
   "source": [
    "pygame.init()\n",
    "os.environ['SDL_AUDIODRIVER'] = 'sdl2'"
   ]
  },
  {
   "cell_type": "markdown",
   "metadata": {},
   "source": [
    "- This intilializes the pygame library for audio operations. \n",
    "- sdl2 is the audio driver necessary in order to get audio. sdl2 can change based on what driver your system runs on."
   ]
  },
  {
   "cell_type": "code",
   "execution_count": null,
   "metadata": {},
   "outputs": [],
   "source": [
    "root = Tk()\n",
    "root.title(\"MP3 Player\")"
   ]
  },
  {
   "cell_type": "markdown",
   "metadata": {},
   "source": [
    "- This creates the main window for the MP3 player and sets the title of the window."
   ]
  },
  {
   "cell_type": "code",
   "execution_count": null,
   "metadata": {},
   "outputs": [],
   "source": [
    "playlist = []"
   ]
  },
  {
   "cell_type": "markdown",
   "metadata": {},
   "source": [
    "- This creates an empty list to store the paths of the songs."
   ]
  },
  {
   "cell_type": "code",
   "execution_count": null,
   "metadata": {},
   "outputs": [],
   "source": [
    "def add_songs():\n",
    "    songs = filedialog.askopenfilenames(filetypes=[(\"MP3 files\", \"*.mp3\")])\n",
    "    for song in songs:\n",
    "        playlist.append(song)\n",
    "        songs_listbox.insert(END, os.path.basename(song))\n",
    "\n",
    "# Create a function to play the selected song\n",
    "def play_song():\n",
    "    global current_song\n",
    "    current_song = playlistbox.curselection()[0]\n",
    "    pygame.mixer.music.load(playlist[current_song])\n",
    "    pygame.mixer.music.play()\n",
    "\n",
    "# Create a function to stop the current song\n",
    "def stop_song():\n",
    "    pygame.mixer.music.stop()\n",
    "\n",
    "# Create a function to pause the current song\n",
    "def pause_song():\n",
    "    pygame.mixer.music.pause()\n",
    "\n",
    "# Create a function to resume the current song\n",
    "def resume_song():\n",
    "    pygame.mixer.music.unpause()\n",
    "\n",
    "# Create a function to play the next song\n",
    "def next_song():\n",
    "    global current_song\n",
    "    current_song += 1\n",
    "    if current_song >= len(playlist):\n",
    "        current_song = 0\n",
    "    pygame.mixer.music.load(playlist[current_song])\n",
    "    pygame.mixer.music.play()\n",
    "\n",
    "# Create a function to play the previous song\n",
    "def prev_song():\n",
    "    global current_song\n",
    "    current_song -= 1\n",
    "    if current_song < 0:\n",
    "        current_song = len(playlist) - 1\n",
    "    pygame.mixer.music.load(playlist[current_song])\n",
    "    pygame.mixer.music.play()"
   ]
  },
  {
   "cell_type": "markdown",
   "metadata": {},
   "source": [
    "- add_songs(): This function opens a file dialog to select the MP3 files you would like you and adds their path to playlist. It will also display the file chosen\n",
    "- play_song(): Plays the selected song from playlist\n",
    "- stop_song(): Stops the song currently playing\n",
    "- pause_song(): Pauses the currently playing song\n",
    "- resume_song(): Resumes the song if paused\n",
    "- next_song(): Skips to the next song in 'playlist' and plays it\n",
    "- prev_song(): Goes back to the previous song in 'playlist' and plays it"
   ]
  },
  {
   "cell_type": "code",
   "execution_count": null,
   "metadata": {},
   "outputs": [],
   "source": [
    "add_button = ttk.Button(root, text=\"Add Songs\", command=add_songs)\n",
    "play_button = ttk.Button(root, text=\"Play\", command=play_song)\n",
    "\n",
    "...\n",
    "\n",
    "songs_listbox = Listbox(root, selectmode=SINGLE, selectbackground=\"gray\")\n",
    "songs_listbox.config(bg=\"black\", fg=\"white\", selectforeground=\"white\", selectbackground=\"gray\")"
   ]
  },
  {
   "cell_type": "markdown",
   "metadata": {},
   "source": [
    "- The various button widgets are created to be able to add, play, stop, resume, skip, and go back to the pervious song.\n",
    "- 'Listbox' widget creates a display list of selected songs."
   ]
  },
  {
   "cell_type": "code",
   "execution_count": 9,
   "metadata": {},
   "outputs": [
    {
     "ename": "TclError",
     "evalue": "can't invoke \"grid\" command: application has been destroyed",
     "output_type": "error",
     "traceback": [
      "\u001b[0;31m---------------------------------------------------------------------------\u001b[0m",
      "\u001b[0;31mTclError\u001b[0m                                  Traceback (most recent call last)",
      "\u001b[0;32m/tmp/ipykernel_84340/1796873520.py\u001b[0m in \u001b[0;36m<module>\u001b[0;34m\u001b[0m\n\u001b[0;32m----> 1\u001b[0;31m \u001b[0madd_button\u001b[0m\u001b[0;34m.\u001b[0m\u001b[0mgrid\u001b[0m\u001b[0;34m(\u001b[0m\u001b[0mrow\u001b[0m\u001b[0;34m=\u001b[0m\u001b[0;36m0\u001b[0m\u001b[0;34m,\u001b[0m \u001b[0mcolumn\u001b[0m\u001b[0;34m=\u001b[0m\u001b[0;36m0\u001b[0m\u001b[0;34m,\u001b[0m \u001b[0mpadx\u001b[0m\u001b[0;34m=\u001b[0m\u001b[0;36m10\u001b[0m\u001b[0;34m,\u001b[0m \u001b[0mpady\u001b[0m\u001b[0;34m=\u001b[0m\u001b[0;36m5\u001b[0m\u001b[0;34m)\u001b[0m\u001b[0;34m\u001b[0m\u001b[0;34m\u001b[0m\u001b[0m\n\u001b[0m\u001b[1;32m      2\u001b[0m \u001b[0mplay_button\u001b[0m\u001b[0;34m.\u001b[0m\u001b[0mgrid\u001b[0m\u001b[0;34m(\u001b[0m\u001b[0mrow\u001b[0m\u001b[0;34m=\u001b[0m\u001b[0;36m0\u001b[0m\u001b[0;34m,\u001b[0m \u001b[0mcolumn\u001b[0m\u001b[0;34m=\u001b[0m\u001b[0;36m1\u001b[0m\u001b[0;34m,\u001b[0m \u001b[0mpadx\u001b[0m\u001b[0;34m=\u001b[0m\u001b[0;36m10\u001b[0m\u001b[0;34m,\u001b[0m \u001b[0mpady\u001b[0m\u001b[0;34m=\u001b[0m\u001b[0;36m5\u001b[0m\u001b[0;34m)\u001b[0m\u001b[0;34m\u001b[0m\u001b[0;34m\u001b[0m\u001b[0m\n\u001b[1;32m      3\u001b[0m \u001b[0mstop_button\u001b[0m\u001b[0;34m.\u001b[0m\u001b[0mgrid\u001b[0m\u001b[0;34m(\u001b[0m\u001b[0mrow\u001b[0m\u001b[0;34m=\u001b[0m\u001b[0;36m0\u001b[0m\u001b[0;34m,\u001b[0m \u001b[0mcolumn\u001b[0m\u001b[0;34m=\u001b[0m\u001b[0;36m2\u001b[0m\u001b[0;34m,\u001b[0m \u001b[0mpadx\u001b[0m\u001b[0;34m=\u001b[0m\u001b[0;36m10\u001b[0m\u001b[0;34m,\u001b[0m \u001b[0mpady\u001b[0m\u001b[0;34m=\u001b[0m\u001b[0;36m5\u001b[0m\u001b[0;34m)\u001b[0m\u001b[0;34m\u001b[0m\u001b[0;34m\u001b[0m\u001b[0m\n\u001b[1;32m      4\u001b[0m \u001b[0mpause_button\u001b[0m\u001b[0;34m.\u001b[0m\u001b[0mgrid\u001b[0m\u001b[0;34m(\u001b[0m\u001b[0mrow\u001b[0m\u001b[0;34m=\u001b[0m\u001b[0;36m0\u001b[0m\u001b[0;34m,\u001b[0m \u001b[0mcolumn\u001b[0m\u001b[0;34m=\u001b[0m\u001b[0;36m3\u001b[0m\u001b[0;34m,\u001b[0m \u001b[0mpadx\u001b[0m\u001b[0;34m=\u001b[0m\u001b[0;36m10\u001b[0m\u001b[0;34m,\u001b[0m \u001b[0mpady\u001b[0m\u001b[0;34m=\u001b[0m\u001b[0;36m5\u001b[0m\u001b[0;34m)\u001b[0m\u001b[0;34m\u001b[0m\u001b[0;34m\u001b[0m\u001b[0m\n\u001b[1;32m      5\u001b[0m \u001b[0mresume_button\u001b[0m\u001b[0;34m.\u001b[0m\u001b[0mgrid\u001b[0m\u001b[0;34m(\u001b[0m\u001b[0mrow\u001b[0m\u001b[0;34m=\u001b[0m\u001b[0;36m0\u001b[0m\u001b[0;34m,\u001b[0m \u001b[0mcolumn\u001b[0m\u001b[0;34m=\u001b[0m\u001b[0;36m4\u001b[0m\u001b[0;34m,\u001b[0m \u001b[0mpadx\u001b[0m\u001b[0;34m=\u001b[0m\u001b[0;36m10\u001b[0m\u001b[0;34m,\u001b[0m \u001b[0mpady\u001b[0m\u001b[0;34m=\u001b[0m\u001b[0;36m5\u001b[0m\u001b[0;34m)\u001b[0m\u001b[0;34m\u001b[0m\u001b[0;34m\u001b[0m\u001b[0m\n",
      "\u001b[0;32m/usr/lib/python3.10/tkinter/__init__.py\u001b[0m in \u001b[0;36mgrid_configure\u001b[0;34m(self, cnf, **kw)\u001b[0m\n\u001b[1;32m   2520\u001b[0m                       \u001b[0mwidget\u001b[0m \u001b[0mstick\u001b[0m \u001b[0mto\u001b[0m \u001b[0mthe\u001b[0m \u001b[0mcell\u001b[0m \u001b[0mboundary\u001b[0m\u001b[0;34m\u001b[0m\u001b[0;34m\u001b[0m\u001b[0m\n\u001b[1;32m   2521\u001b[0m         \"\"\"\n\u001b[0;32m-> 2522\u001b[0;31m         self.tk.call(\n\u001b[0m\u001b[1;32m   2523\u001b[0m               \u001b[0;34m(\u001b[0m\u001b[0;34m'grid'\u001b[0m\u001b[0;34m,\u001b[0m \u001b[0;34m'configure'\u001b[0m\u001b[0;34m,\u001b[0m \u001b[0mself\u001b[0m\u001b[0;34m.\u001b[0m\u001b[0m_w\u001b[0m\u001b[0;34m)\u001b[0m\u001b[0;34m\u001b[0m\u001b[0;34m\u001b[0m\u001b[0m\n\u001b[1;32m   2524\u001b[0m               + self._options(cnf, kw))\n",
      "\u001b[0;31mTclError\u001b[0m: can't invoke \"grid\" command: application has been destroyed"
     ]
    }
   ],
   "source": [
    "add_button.grid(row=0, column=0, padx=10, pady=5)\n",
    "play_button.grid(row=0, column=1, padx=10, pady=5)\n",
    "stop_button.grid(row=0, column=2, padx=10, pady=5)\n",
    "pause_button.grid(row=0, column=3, padx=10, pady=5)\n",
    "resume_button.grid(row=0, column=4, padx=10, pady=5)\n",
    "next_button.grid(row=0, column=5, padx=10, pady=5)\n",
    "prev_button.grid(row=0, column=6, padx=10, pady=5)\n",
    "songs_listbox.grid(row=1, column=0, columnspan=7, padx=10, pady=10)"
   ]
  },
  {
   "cell_type": "markdown",
   "metadata": {},
   "source": [
    "- The widgets are placed using the grid layout manager for better alignment.\n",
    "- 'song_listbox' are packed into the main window and are organized in a vertical layout.\n"
   ]
  },
  {
   "cell_type": "code",
   "execution_count": null,
   "metadata": {},
   "outputs": [],
   "source": [
    "root.mainloop()"
   ]
  },
  {
   "cell_type": "markdown",
   "metadata": {},
   "source": [
    "- This final line of code starts the main event look which keeps the application running and responsive to user interactions."
   ]
  }
 ],
 "metadata": {
  "kernelspec": {
   "display_name": "Python 3",
   "language": "python",
   "name": "python3"
  },
  "language_info": {
   "codemirror_mode": {
    "name": "ipython",
    "version": 3
   },
   "file_extension": ".py",
   "mimetype": "text/x-python",
   "name": "python",
   "nbconvert_exporter": "python",
   "pygments_lexer": "ipython3",
   "version": "3.10.12"
  },
  "orig_nbformat": 4
 },
 "nbformat": 4,
 "nbformat_minor": 2
}
