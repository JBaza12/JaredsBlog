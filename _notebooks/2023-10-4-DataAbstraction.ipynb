{
 "cells": [
  {
   "cell_type": "markdown",
   "metadata": {},
   "source": [
    "---\n",
    "toc: True\n",
    "comments: False\n",
    "layout: post\n",
    "title: Data Abstaction Notes/HW\n",
    "description: Today in class we had a techtalk taught by students in our class, here is the notes I took and the homework\n",
    "type: hacks\n",
    "courses: {'compsci': {'week': 7}}\n",
    "---"
   ]
  },
  {
   "cell_type": "code",
   "execution_count": 4,
   "metadata": {},
   "outputs": [
    {
     "name": "stdout",
     "output_type": "stream",
     "text": [
      "I am Jared\n",
      "17\n"
     ]
    }
   ],
   "source": [
    "x = 'I am Jared'\n",
    "print(x)\n",
    "y = 9\n",
    "z = 8\n",
    "print(y+z)"
   ]
  },
  {
   "cell_type": "code",
   "execution_count": 3,
   "metadata": {},
   "outputs": [
    {
     "name": "stdout",
     "output_type": "stream",
     "text": [
      "true\n"
     ]
    }
   ],
   "source": [
    "x = \"Jared\"\n",
    "age = int(input(\"What is youre age?\"))\n",
    "if age > 10:\n",
    "    print(\"true\")\n",
    "else:\n",
    "    print(\"false\")"
   ]
  },
  {
   "cell_type": "code",
   "execution_count": 2,
   "metadata": {},
   "outputs": [
    {
     "name": "stdout",
     "output_type": "stream",
     "text": [
      "Come on, lets be real\n"
     ]
    }
   ],
   "source": [
    "i = input(\"Is this line straight or curvy? |\")\n",
    "if i == \"straight\":\n",
    "    print(\"Youre correct\")\n",
    "elif i == \"curvy\":\n",
    "    print(\"Come on, lets be real\")"
   ]
  },
  {
   "cell_type": "code",
   "execution_count": 1,
   "metadata": {},
   "outputs": [
    {
     "name": "stdout",
     "output_type": "stream",
     "text": [
      "15\n",
      "Hello World\n",
      "['I am Jared', 15]\n"
     ]
    }
   ],
   "source": [
    "suslist = [\"I am Jared\", 15, \"Hello World\", 12, \"Ashwin is funny\", 15]\n",
    "print(suslist[5])\n",
    "print(suslist[2])\n",
    "print(suslist[0:2])"
   ]
  },
  {
   "cell_type": "code",
   "execution_count": 10,
   "metadata": {},
   "outputs": [
    {
     "name": "stdout",
     "output_type": "stream",
     "text": [
      "Jared is 15 years old\n",
      "Bruce AKA Batman is 84 years old\n",
      "Ashwin is 109 years old\n"
     ]
    }
   ],
   "source": [
    "# Part 1: Create a class called Person with the attributes name and age. Then create a \n",
    "# function called print_people that takes in a list of people and prints out their names and ages.\n",
    "class Person:\n",
    "    def person(self, name, age):\n",
    "        self.name = name\n",
    "        self.age = age\n",
    "\n",
    "def print_people(person):\n",
    "    for person in people:\n",
    "        print(person + \" is \" + str(people[person]) + \" years old\")\n",
    "        \n",
    "people = {\n",
    "    \"Jared\": \"15\",\n",
    "    \"Bruce AKA Batman\": \"84\",\n",
    "    \"Ashwin\": \"109\"\n",
    "}\n",
    "print_people(people)\n"
   ]
  },
  {
   "cell_type": "code",
   "execution_count": 15,
   "metadata": {},
   "outputs": [
    {
     "name": "stdout",
     "output_type": "stream",
     "text": [
      "Ashwin's Grandma is 218 years old\n"
     ]
    }
   ],
   "source": [
    "#Part 2: Create a function that takes in a dictionary of people and their ages and prints out \n",
    "# the name of the oldest person.\n",
    "def print_oldestperson(person):\n",
    "    oldest_person = max(people, key=lambda x: int(people[x]))\n",
    "    oldest_age = people[oldest_person]\n",
    "    print(oldest_person + \" is \" + oldest_age + \" years old\")\n",
    "        \n",
    "people = {\n",
    "    \"Jared\": \"15\",\n",
    "    \"Bruce AKA Batman\": \"84\",\n",
    "    \"Ashwin\": \"109\",\n",
    "    \"Ashwin's Grandma\": \"218\",\n",
    "    \"Joker\": \"178\"\n",
    "}\n",
    "print_oldestperson(people)"
   ]
  }
 ],
 "metadata": {
  "kernelspec": {
   "display_name": "Python 3",
   "language": "python",
   "name": "python3"
  },
  "language_info": {
   "codemirror_mode": {
    "name": "ipython",
    "version": 3
   },
   "file_extension": ".py",
   "mimetype": "text/x-python",
   "name": "python",
   "nbconvert_exporter": "python",
   "pygments_lexer": "ipython3",
   "version": "3.10.12"
  },
  "orig_nbformat": 4
 },
 "nbformat": 4,
 "nbformat_minor": 2
}
