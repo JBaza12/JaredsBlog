{
 "cells": [
  {
   "cell_type": "markdown",
   "metadata": {},
   "source": [
    "---\n",
    "toc: true\n",
    "comments: false\n",
    "layout: post\n",
    "title: Linux Hacks\n",
    "description: This is a bash script that generates a markdown file\n",
    "type: hacks\n",
    "courses: { compsci: {week: 3} }\n",
    "---"
   ]
  },
  {
   "cell_type": "raw",
   "metadata": {},
   "source": [
    "{% include nav_basics.html %}"
   ]
  },
  {
   "cell_type": "code",
   "execution_count": null,
   "metadata": {
    "vscode": {
     "languageId": "html"
    }
   },
   "outputs": [],
   "source": [
    "%%script bash\n",
    "\n",
    "# This example has error in VSCode, it run best on Jupyter\n",
    "cd /tmp\n",
    "\n",
    "file=\"sample.md\"\n",
    "if [ -f \"$file\" ]; then\n",
    "    rm $file\n",
    "fi\n",
    "\n",
    "tee -a $file >/dev/null <<EOF\n",
    "# Show Generated Markdown\n",
    "This introductory paragraph and this line and the title above are generated using tee with the standard input (<<) redirection operator.\n",
    "- This bulleted element is still part of the tee body.\n",
    "EOF\n",
    "\n",
    "echo \"- This bulleted element and lines below are generated using echo with standard output (>>) redirection operator.\" >> $file\n",
    "echo \"- The list definition, as is, is using space to seperate lines.  Thus the use of commas and hyphens in output.\" >> $file\n",
    "actions=(\"ls,list-directory\" \"cd,change-directory\" \"pwd,present-working-directory\" \"if-then-fi,test-condition\" \"env,bash-environment-variables\" \"cat,view-file-contents\" \"tee,write-to-output\" \"echo,display-content-of-string\" \"echo_text_>\\$file,write-content-to-file\" \"echo_text_>>\\$file,append-content-to-file\")\n",
    "for action in ${actions[@]}; do  # for loop is very similar to other language, though [@], semi-colon, do are new\n",
    "  action=${action//-/ }  # convert dash to space\n",
    "  action=${action//,/: } # convert comma to colon\n",
    "  action=${action//_text_/ \\\"sample text\\\" } # convert _text_ to sample text, note escape character \\ to avoid \"\" having meaning\n",
    "  echo \"    - ${action//-/ }\" >> $file  # echo is redirected to file with >>\n",
    "done\n",
    "\n",
    "echo \"\"\n",
    "echo \"File listing and status\"\n",
    "ls -l $file # list file\n",
    "wc $file   # show words\n",
    "mdless $file  # this requires installation, but renders markown from terminal\n",
    "\n",
    "rm $file  # clean up termporary file"
   ]
  },
  {
   "cell_type": "markdown",
   "metadata": {},
   "source": [
    "- This Bash script generates a Markdown file ('sample.md') containing text and formatted lists, then displays some information about the file. \n",
    "## Step by Step breakdown:\n",
    "- File Cleanup Check: The script checks if a file named sample.md exists. If it does, it deletes it to start fresh.\n",
    "- Appending Text Using tee: It's like typing text into a document. The script adds lines of text to a file called sample.md. These lines include a title and a list of items.\n",
    "- Appending Text Using echo:Similar to writing more lines in the document. More lines are added to the sample.md file, extending the list of items.\n",
    "- Loop to Generate Actions: Imagine making a list of actions you can do. The script creates a list of actions and descriptions, like \"ls: list-directory.\" It adds these actions to the list in the sample.md file.\n",
    "- Display File Listing and Word Count: Like checking the properties of a file. The script shows you details about the sample.md file, such as its size and the number of words in it.\n",
    "- Render Markdown Using mdless (Optional): This part is like having a program that can display how the document looks. It tries to show you how the Markdown document would appear if it were formatted nicely. But you might need to install something for this to work.\n",
    "- Cleanup: Cleaning up is like throwing away rough notes after you've finished using them. The script deletes the temporary sample.md file because it's done using it."
   ]
  },
  {
   "cell_type": "markdown",
   "metadata": {},
   "source": [
    "- To sum it up in simpler terms, this script creates a text document, adds some content to it, shows you information about the document, tries to display it nicely (if possible), and then cleans up by deleting the document when it's done.\n",
    "\n",
    "\n",
    "\n",
    "\n"
   ]
  }
 ],
 "metadata": {
  "language_info": {
   "name": "python"
  },
  "orig_nbformat": 4
 },
 "nbformat": 4,
 "nbformat_minor": 2
}
