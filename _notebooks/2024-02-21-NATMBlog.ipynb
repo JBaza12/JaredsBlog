{
 "cells": [
  {
   "cell_type": "markdown",
   "metadata": {},
   "source": [
    "---\n",
    "toc: true\n",
    "comments: true\n",
    "layout: post\n",
    "title: Night at the Museum Reflection\n",
    "courses: { compsci: {week: 20} }\n",
    "type: tangibles\n",
    "---"
   ]
  },
  {
   "cell_type": "markdown",
   "metadata": {},
   "source": [
    "> ## Blog on team\n",
    "- Glows/grows: As we looked back on our project demo, we found some things we're doing well and areas where we can improve. One thing we're proud of is our website. It's coming along nicely and works really smoothly. It's also a great place for people to work together and help each other out. But, we know we need to do better at getting more people involved. Having more people on board could bring in fresh ideas and make our project even better. We also want to keep improving our website, adding more cool features to make it even more useful for everyone involved. So, while we're happy with how things are going, we're also excited to keep making progress and making our project even better.\n",
    "- Based on feedback we received, one valuable addition we plan to incorporate into our individual CPT project is a filter for the most commonly asked questions or topics. Some parents suggested this feature, recognizing its potential to enhance user experience by streamlining access to frequently sought information. By implementing this filter, users will be able to quickly locate relevant content, saving time and improving overall satisfaction with our project. This addition aligns with our goal of continuously refining and optimizing our project to better meet the needs of our audience.\n",
    "- Photos:\n",
    "\n",
    "https://docs.google.com/document/d/1MlO3YqsNm0Y8v_Qn90pbj1WF_G95AKwLZi3awJ8vVoE/edit?usp=sharing\n",
    "\n",
    "\n",
    "> ## Blog on event\n",
    "- One impressive project I observed in computer science was a group in CSSE creating a website that enabled users to create their own company website based on various topics. This project showcased creativity and practicality by providing a platform for individuals to easily design and customize websites tailored to their specific business ideas or interests. The ability to empower users to create professional-looking websites without extensive technical knowledge demonstrates the power of technology in enabling entrepreneurship and innovation. It also highlights the interdisciplinary nature of computer science, bridging the gap between technology and real-world applications in business and web development. This project inspired me by showcasing the transformative potential of technology to democratize access to digital tools and empower individuals to bring their ideas to life online.\n",
    "- Outside of computer science, I liked seeing the ceramics class presentation. They had so many different pots, each with unique designs. It was fascinating to see the creativity and variety in their work. The students had clearly put a lot of effort into their projects, and there was a diverse range of styles and techniques used in the pots. Overall, it was very cool to see how artistic expression could be showcased.\n"
   ]
  },
  {
   "cell_type": "markdown",
   "metadata": {},
   "source": []
  }
 ],
 "metadata": {
  "language_info": {
   "name": "python"
  }
 },
 "nbformat": 4,
 "nbformat_minor": 2
}
