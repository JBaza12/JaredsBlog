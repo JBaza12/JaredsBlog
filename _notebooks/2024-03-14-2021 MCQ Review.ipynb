{
 "cells": [
  {
   "cell_type": "markdown",
   "metadata": {},
   "source": [
    "---\n",
    "toc: true\n",
    "comments: true\n",
    "layout: post\n",
    "title: 2021 MCQ Review\n",
    "courses: { compsci: {week: 20} }\n",
    "type: tangibles\n",
    "---"
   ]
  },
  {
   "cell_type": "markdown",
   "metadata": {
    "vscode": {
     "languageId": "plaintext"
    }
   },
   "source": [
    "# Corrections for missed questions on CB MCQ\n",
    "> Score: 64/70\n",
    "\n",
    "1. <img src=\"https://jbaza12.github.io/JaredsBlog/images/2021mcq1.png\">\n",
    "> Phishing is when someone tricks you into giving away personal info through fake emails or websites. Remote access means controlling a computer from far away, like for tech help. They're different things. Remote access can be bad if used sneakily, but it's not phishing unless it's sneaky to get in.\n",
    "\n",
    "30. <img src=\"https://jbaza12.github.io/JaredsBlog/images/2021mcq2.png\">\n",
    "> When we sending data, instead of sending it all at once, we break it into smaller parts called packets. These packets travel separately and are put back together when they reach their destination. It's like sending Lego blocks in smaller boxes and then assembling them later.\n",
    "\n",
    "40. <img src=\"https://jbaza12.github.io/JaredsBlog/images/2021mcq3.png\">\n",
    "> Offering low-cost computing devices can make technology more accessible to those that can't afford expensive options. This narrows down the digital divide. By providing affordable alternatives, more people can access the benefits and opportunities that come with technology usage.\n",
    "\n",
    "53. <img src=\"https://jbaza12.github.io/JaredsBlog/images/2021mcq4.png\">\n",
    "> It's impossible for the count to exceed the total number of elements in the list, represented by 'n'. Steps 2 and 3 of the algorithm will keep repeating until the algorithm tries to access a list element at an index that doesn't exist, which means going beyond the end of the list.\n",
    "\n",
    "55. <img src=\"https://jbaza12.github.io/JaredsBlog/images/2021mcq5.png\">\n",
    "> This piece of code first stores the value of the last element in the list into a variable called temp. Then, it removes the last element from the list and adds the value stored in temp back to the end of the list. Essentially, this operation doesn't change the content or order of the list, leaving it exactly the same as before.\n",
    "\n",
    "62. <img src=\"https://jbaza12.github.io/JaredsBlog/images/2021mcq6.png\">\n",
    "> Even if users have basic accounts, they can still get ads tailored specifically to them, even if they're not particularly interested in health and fitness.\n",
    "\n",
    "## Takeaways\n",
    "- 1.3: Program Design and Development\n",
    "- 3.2: Data Abstraction\n",
    "- 3.13: Developing Procedures\n",
    "- 3.14: Libraries\n",
    "- 1.1: Collaboration\n",
    "> These are the topics that I missed and need to review to better my overall understanding for the AP exam\n",
    "\n",
    "## Conclusion\n",
    "> In conclusion, I've identified areas where I need to improve for the AP exam. I need to focus on topics like program design and development, data abstraction, developing procedures, and using libraries. By reviewing these topics, I aim to strengthen my understanding and perform better on future assessments. I have also identified that areas that I am strong in, and I am very happy with my score. "
   ]
  }
 ],
 "metadata": {
  "kernelspec": {
   "display_name": "Python 3",
   "language": "python",
   "name": "python3"
  },
  "language_info": {
   "codemirror_mode": {
    "name": "ipython",
    "version": 3
   },
   "file_extension": ".py",
   "mimetype": "text/x-python",
   "name": "python",
   "nbconvert_exporter": "python",
   "pygments_lexer": "ipython3",
   "version": "3.10.12"
  },
  "orig_nbformat": 4
 },
 "nbformat": 4,
 "nbformat_minor": 2
}
