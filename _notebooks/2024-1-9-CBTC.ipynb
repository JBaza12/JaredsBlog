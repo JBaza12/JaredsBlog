{
 "cells": [
  {
   "cell_type": "markdown",
   "metadata": {},
   "source": [
    "---\n",
    "toc: true\n",
    "comments: true\n",
    "layout: post\n",
    "title: Test Corrections CB Quiz\n",
    "courses: { compsci: {week: 17} }\n",
    "type: tangibles\n",
    "---"
   ]
  },
  {
   "cell_type": "markdown",
   "metadata": {},
   "source": [
    "# College Board Quiz Test Corrections\n",
    "\n",
    "1. Correct answer: A - The binary RGB triplet (11111111, 11111111, 11110000) translates to the decimal values (255, 255, 240), which corresponds to Ivory in the provided table. I misinterpreting the color associated with the given binary triplet.\n",
    "2. Correct answer: D - The correct binary RGB triplet for the color indigo is (01001011, 00000000, 01000001). The mistake was in selecting option C which doesn't match the binary representation of the indigo color.\n",
    "3. Correct answer: D - Optiom B(my answer) incorrectly interprets the algorithm which suggests that the condition for setting \"available\" to true is when \"weekday\" is true and \"miles\" are greater than or equal to 20. However, the correct interpretation, represented by option D, is that \"available\" is set to true only when both conditions, \"weekday\" being true and \"miles\" less than 20, are met. Therefore, option B is not equivalent to the algorithm described in the flowchart, and the correct answer is option D."
   ]
  }
 ],
 "metadata": {
  "kernelspec": {
   "display_name": "Python 3",
   "language": "python",
   "name": "python3"
  },
  "language_info": {
   "codemirror_mode": {
    "name": "ipython",
    "version": 3
   },
   "file_extension": ".py",
   "mimetype": "text/x-python",
   "name": "python",
   "nbconvert_exporter": "python",
   "pygments_lexer": "ipython3",
   "version": "3.10.12"
  },
  "orig_nbformat": 4
 },
 "nbformat": 4,
 "nbformat_minor": 2
}
