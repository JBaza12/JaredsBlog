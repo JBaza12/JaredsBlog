{
 "cells": [
  {
   "cell_type": "markdown",
   "metadata": {},
   "source": [
    "---\n",
    "title: Basics of Javascript\n",
    "hide: True\n",
    "description: A Tech Talk on how to use javascript\n",
    "type: ccc\n",
    "permalink: /basics/javascript\n",
    "author: Rohan Juneja\n",
    "---"
   ]
  },
  {
   "cell_type": "raw",
   "metadata": {},
   "source": [
    "{% include nav_basics.html %}"
   ]
  },
  {
   "cell_type": "markdown",
   "metadata": {},
   "source": [
    "# Hacks\n",
    "- Write a JavaScript program that compares two variables, a and b. Log \"a is greater\" if a is greater than b, \"b is greater\" if b is greater than a, and \"both are equal\" if a and b are equal. Make sure to use if statements and console.log"
   ]
  },
  {
   "cell_type": "code",
   "execution_count": 2,
   "metadata": {
    "vscode": {
     "languageId": "javascript"
    }
   },
   "outputs": [
    {
     "data": {
      "application/javascript": [
       "// Use the prompt function to get user input for Batman and Joker's strength levels\n",
       "let batmanStrength = parseFloat(prompt(\"Enter Batman's strength level (0-100):\"));\n",
       "let jokerStrength = parseFloat(prompt(\"Enter Joker's strength level (0-100):\"));\n",
       "\n",
       "// Check if both inputs are valid numbers\n",
       "if (!isNaN(batmanStrength) && !isNaN(jokerStrength)) {\n",
       "  // Compare Batman and Joker's strengths using if statements\n",
       "  if (batmanStrength > jokerStrength) {\n",
       "    console.log(\"Batman is greater! He defeats the Joker.\");\n",
       "  } else if (jokerStrength > batmanStrength) {\n",
       "    console.log(\"The Joker is greater! Batman is in trouble.\");\n",
       "  } else {\n",
       "    console.log(\"Batman and the Joker are evenly matched in strength!\");\n",
       "  }\n",
       "} else {\n",
       "  console.log(\"Please enter valid numeric values for Batman and Joker's strength levels.\");\n",
       "}\n"
      ],
      "text/plain": [
       "<IPython.core.display.Javascript object>"
      ]
     },
     "metadata": {},
     "output_type": "display_data"
    }
   ],
   "source": [
    "%%js\n",
    "// Use the prompt function to get user input for Batman and Joker's strength levels\n",
    "let batmanStrength = parseFloat(prompt(\"Enter Batman's strength level (0-100):\"));\n",
    "let jokerStrength = parseFloat(prompt(\"Enter Joker's strength level (0-100):\"));\n",
    "\n",
    "// Check if both inputs are valid numbers\n",
    "if (!isNaN(batmanStrength) && !isNaN(jokerStrength)) {\n",
    "  // Compare Batman and Joker's strengths using if statements\n",
    "  if (batmanStrength > jokerStrength) {\n",
    "    console.log(\"Batman is greater! He defeats the Joker.\");\n",
    "  } else if (jokerStrength > batmanStrength) {\n",
    "    console.log(\"The Joker is greater! Batman is in trouble.\");\n",
    "  } else {\n",
    "    console.log(\"Batman and the Joker are evenly matched in strength!\");\n",
    "  }\n",
    "} else {\n",
    "  console.log(\"Please enter valid numeric values for Batman and Joker's strength levels.\");\n",
    "}\n"
   ]
  },
  {
   "cell_type": "code",
   "execution_count": null,
   "metadata": {
    "vscode": {
     "languageId": "javascript"
    }
   },
   "outputs": [],
   "source": []
  },
  {
   "cell_type": "code",
   "execution_count": null,
   "metadata": {},
   "outputs": [],
   "source": []
  }
 ],
 "metadata": {
  "kernelspec": {
   "display_name": "Python 3 (ipykernel)",
   "language": "python",
   "name": "python3"
  },
  "language_info": {
   "codemirror_mode": {
    "name": "ipython",
    "version": 3
   },
   "file_extension": ".py",
   "mimetype": "text/x-python",
   "name": "python",
   "nbconvert_exporter": "python",
   "pygments_lexer": "ipython3",
   "version": "3.10.12"
  }
 },
 "nbformat": 4,
 "nbformat_minor": 2
}
