{
 "cells": [
  {
   "cell_type": "markdown",
   "metadata": {},
   "source": [
    "---\n",
    "toc: true\n",
    "comments: true\n",
    "layout: post\n",
    "title: Passion Project Reflection\n",
    "description:  This is a reflection of my group's passion project and some challenges I faced. \n",
    "courses: { compsci: {week: 8} }\n",
    "type: tangibles\n",
    "---"
   ]
  },
  {
   "cell_type": "markdown",
   "metadata": {},
   "source": [
    "# Reflection:\n",
    "> My passion project was all about creating a Pokémon website, and it was an exciting journey. One of the biggest challenges I faced was trying to make everything look good and work smoothly. I had to figure out how CSS, JavaScript, and HTML could work together, and let me tell you, it was tough at first.\n",
    "\n",
    "## Problems I faced:\n",
    "> Understanding CSS felt like learning a new language. I had to style the website and make it visually appealing, but it wasn't as easy as picking colors and fonts. I struggled to position elements the way I wanted. It took a lot of trial and error, and I spent hours watching tutorials and reading guides. It was frustrating, but I didn't give up.\n",
    "\n",
    "> JavaScript was another challenge. I wanted to add interactive elements, like a game and a quiz, but coding them was like solving puzzles. I often got stuck on how to make things move or respond to clicks. I had moments when I thought, \"Is this too hard for me?\" But I reminded myself that every coder faces obstacles. So, I broke down the problems into smaller steps and celebrated every small victory. It made the process less overwhelming.\n",
    "\n",
    "> The backend stuff was like a mysterious world. Firguring out how to set up servers, databases, and making sure data flowed smoothly was difficult. It was new territory for me, and I felt like I was in over my head. But I didn't let that stop me. I reached out to mentors and friends for help. They shared their experiences, and I learned a lot from their guidance.\n",
    "\n",
    "<hr>\n",
    "\n",
    "> The key to overcoming these challenges was persistence. I tackled them one step at a time and kept learning. I wasn't afraid to ask questions and seek help from others. As a result, my Pokémon website gradually took shape. It wasn't perfect, but it was my creation, and I was proud of it. This project taught me that coding is all about problem-solving and determination, and it made me even more passionate about web development."
   ]
  }
 ],
 "metadata": {
  "kernelspec": {
   "display_name": "Python 3",
   "language": "python",
   "name": "python3"
  },
  "language_info": {
   "codemirror_mode": {
    "name": "ipython",
    "version": 3
   },
   "file_extension": ".py",
   "mimetype": "text/x-python",
   "name": "python",
   "nbconvert_exporter": "python",
   "pygments_lexer": "ipython3",
   "version": "3.10.12"
  },
  "orig_nbformat": 4
 },
 "nbformat": 4,
 "nbformat_minor": 2
}
