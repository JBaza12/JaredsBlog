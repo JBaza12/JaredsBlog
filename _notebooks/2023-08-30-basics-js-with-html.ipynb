{
 "cells": [
  {
   "cell_type": "markdown",
   "metadata": {},
   "source": [
    "---\n",
    "title: Using Javascript with HTML DOM\n",
    "hide: True\n",
    "description: A Tech Talk on how javascript can interact with HTML DOM\n",
    "type: ccc\n",
    "permalink: /basics/dom\n",
    "author: Rohan Juneja\n",
    "---"
   ]
  },
  {
   "cell_type": "raw",
   "metadata": {},
   "source": [
    "{% include nav_basics.html %}"
   ]
  },
  {
   "cell_type": "markdown",
   "metadata": {},
   "source": [
    "# Reactivity\n",
    "- We can run functions when an event happens\n",
    "   - In this case, we will add the p tag when the button is clicked"
   ]
  },
  {
   "cell_type": "code",
   "execution_count": 5,
   "metadata": {},
   "outputs": [
    {
     "data": {
      "text/html": [
       "<!-- the ID must be specified on the elements -->\n",
       "<button id=\"myButton\">Click here!</button>\n",
       "\n",
       "<div id=\"myContainer\">\n",
       "    <h1 id=\"myTitle\">My Title</h1>\n",
       "</div>\n",
       "\n",
       "<!-- our javascript goe here -->\n",
       "<script>\n",
       "    // create a function => takes in text, returns created p\n",
       "    function createPTag(text) {\n",
       "        // creates a new element\n",
       "        var pElement = document.createElement(\"p\")\n",
       "\n",
       "        // using the parameter like a variable\n",
       "        pElement.innerHTML = text\n",
       "\n",
       "        return pElement;\n",
       "    }\n",
       "\n",
       "    // create a function that sets specific text and adds to div\n",
       "    function addCoolPTag() {\n",
       "        // using our new function\n",
       "        var pTag = createPTag(\"cooler text\")\n",
       "\n",
       "        // place the p element in the webpage\n",
       "        var div = document.getElementById(\"myContainer\")\n",
       "\n",
       "        // add p tag to the div\n",
       "        div.appendChild(pTag)\n",
       "    }\n",
       "\n",
       "    // add the P tag when our button is clicked\n",
       "    var myButton = document.getElementById(\"myButton\")\n",
       "\n",
       "    // using the onclick variable of the button\n",
       "    // functions can be used as values for these variables\n",
       "    myButton.onclick = addCoolPTag\n",
       "</script>\n"
      ],
      "text/plain": [
       "<IPython.core.display.HTML object>"
      ]
     },
     "metadata": {},
     "output_type": "display_data"
    }
   ],
   "source": [
    "%%html\n",
    "<!-- the ID must be specified on the elements -->\n",
    "<button id=\"myButton\">Click here!</button>\n",
    "\n",
    "<div id=\"myContainer\">\n",
    "    <h1 id=\"myTitle\">My Title</h1>\n",
    "</div>\n",
    "\n",
    "<!-- our javascript goe here -->\n",
    "<script>\n",
    "    // create a function => takes in text, returns created p\n",
    "    function createPTag(text) {\n",
    "        // creates a new element\n",
    "        var pElement = document.createElement(\"p\")\n",
    "\n",
    "        // using the parameter like a variable\n",
    "        pElement.innerHTML = text\n",
    "\n",
    "        return pElement;\n",
    "    }\n",
    "\n",
    "    // create a function that sets specific text and adds to div\n",
    "    function addCoolPTag() {\n",
    "        // using our new function\n",
    "        var pTag = createPTag(\"cooler text\")\n",
    "\n",
    "        // place the p element in the webpage\n",
    "        var div = document.getElementById(\"myContainer\")\n",
    "\n",
    "        // add p tag to the div\n",
    "        div.appendChild(pTag)\n",
    "    }\n",
    "\n",
    "    // add the P tag when our button is clicked\n",
    "    var myButton = document.getElementById(\"myButton\")\n",
    "\n",
    "    // using the onclick variable of the button\n",
    "    // functions can be used as values for these variables\n",
    "    myButton.onclick = addCoolPTag\n",
    "</script>"
   ]
  },
  {
   "cell_type": "markdown",
   "metadata": {},
   "source": [
    "# Hacks\n",
    "- Copy your HTML code from the HTML hacks. Write a Javascript snippet to switch the links of the two a tags when a button is pressed. Once they are switched, change the inner HTML of the top p tag to the word \"switched!\""
   ]
  },
  {
   "cell_type": "code",
   "execution_count": 3,
   "metadata": {
    "vscode": {
     "languageId": "html"
    }
   },
   "outputs": [
    {
     "data": {
      "text/html": [
       "<style>\n",
       "  /* Add CSS to style the button */\n",
       "  #myButton {\n",
       "    background-color: #333333;\n",
       "    color: #00FF00;\n",
       "    border-radius: 25px;\n",
       "    padding: 15px 30px;\n",
       "    transition: all 0.2s ease; /* Add transition for smooth size change */\n",
       "  }\n",
       "</style>\n",
       "\n",
       "<div>\n",
       "  <p id=\"message\">Click the button below to switch the links and change the button color!</p>\n",
       "  <button id=\"myButton\">Switch Button</button>\n",
       "</div>\n",
       "\n",
       "<div>\n",
       "  <a href=\"https://www.youtube.com/watch?v=b65MoVwANq4&t=423s&ab_channel=HeyBearSensory\" id=\"firstLink\">Video 1</a>\n",
       "  <a href=\"https://www.youtube.com/watch?v=qwIjjcXg868&ab_channel=romder\" id=\"secondLink\">Video 2</a>\n",
       "  <p>One is a Batman video, the other is of dancing fruit.</p>\n",
       "</div>\n",
       "\n",
       "<script>\n",
       "  let fontSize = 24; // Initial font size\n",
       "  let padding = 15; // Initial padding size\n",
       "\n",
       "  function buttonClick() {\n",
       "      var firstLinkElement = document.getElementById('firstLink');\n",
       "      var secondLinkElement = document.getElementById('secondLink');\n",
       "      var messageElement = document.getElementById('message');\n",
       "      var buttonElement = document.getElementById('myButton');\n",
       "\n",
       "      var firstLinkHref = firstLinkElement.href;\n",
       "      var secondLinkHref = secondLinkElement.href;\n",
       "\n",
       "      firstLinkElement.href = secondLinkHref;\n",
       "      secondLinkElement.href = firstLinkHref;\n",
       "\n",
       "      // Change the button color randomly\n",
       "      var colors = [\"#FF5733\", \"#33FF57\", \"#5733FF\", \"#FFFF33\", \"#33FFFF\"];\n",
       "      var randomColor = colors[Math.floor(Math.random() * colors.length)];\n",
       "      buttonElement.style.backgroundColor = randomColor;\n",
       "\n",
       "      // Increase font size and padding on each click\n",
       "      fontSize += 2;\n",
       "      padding += 5;\n",
       "\n",
       "      // Apply the updated font size and padding\n",
       "      buttonElement.style.fontSize = fontSize + 'px';\n",
       "      buttonElement.style.padding = padding + 'px';\n",
       "\n",
       "      messageElement.innerHTML = 'Switched!';\n",
       "  }\n",
       "\n",
       "  var buttonElement = document.getElementById('myButton');\n",
       "  buttonElement.addEventListener('click', buttonClick);\n",
       "</script>\n"
      ],
      "text/plain": [
       "<IPython.core.display.HTML object>"
      ]
     },
     "metadata": {},
     "output_type": "display_data"
    }
   ],
   "source": [
    "%%html\n",
    "<style>\n",
    "  /* Add CSS to style the button */\n",
    "  #myButton {\n",
    "    background-color: #333333;\n",
    "    color: #00FF00;\n",
    "    border-radius: 25px;\n",
    "    padding: 15px 30px;\n",
    "    transition: all 0.2s ease; /* Add transition for smooth size change */\n",
    "  }\n",
    "</style>\n",
    "\n",
    "<div>\n",
    "  <p id=\"message\">Click the button below to switch the links and change the button color!</p>\n",
    "  <button id=\"myButton\">Switch Button</button>\n",
    "</div>\n",
    "\n",
    "<div>\n",
    "  <a href=\"https://www.youtube.com/watch?v=b65MoVwANq4&t=423s&ab_channel=HeyBearSensory\" id=\"firstLink\">Video 1</a>\n",
    "  <a href=\"https://www.youtube.com/watch?v=qwIjjcXg868&ab_channel=romder\" id=\"secondLink\">Video 2</a>\n",
    "  <p>One is a Batman video, the other is of dancing fruit.</p>\n",
    "</div>\n",
    "\n",
    "<script>\n",
    "  let fontSize = 24; // Initial font size\n",
    "  let padding = 15; // Initial padding size\n",
    "\n",
    "  function buttonClick() {\n",
    "      var firstLinkElement = document.getElementById('firstLink');\n",
    "      var secondLinkElement = document.getElementById('secondLink');\n",
    "      var messageElement = document.getElementById('message');\n",
    "      var buttonElement = document.getElementById('myButton');\n",
    "\n",
    "      var firstLinkHref = firstLinkElement.href;\n",
    "      var secondLinkHref = secondLinkElement.href;\n",
    "\n",
    "      firstLinkElement.href = secondLinkHref;\n",
    "      secondLinkElement.href = firstLinkHref;\n",
    "\n",
    "      // Change the button color randomly\n",
    "      var colors = [\"#FF5733\", \"#33FF57\", \"#5733FF\", \"#FFFF33\", \"#33FFFF\"];\n",
    "      var randomColor = colors[Math.floor(Math.random() * colors.length)];\n",
    "      buttonElement.style.backgroundColor = randomColor;\n",
    "\n",
    "      // Increase font size and padding on each click\n",
    "      fontSize += 2;\n",
    "      padding += 5;\n",
    "\n",
    "      // Apply the updated font size and padding\n",
    "      buttonElement.style.fontSize = fontSize + 'px';\n",
    "      buttonElement.style.padding = padding + 'px';\n",
    "\n",
    "      messageElement.innerHTML = 'Switched!';\n",
    "  }\n",
    "\n",
    "  var buttonElement = document.getElementById('myButton');\n",
    "  buttonElement.addEventListener('click', buttonClick);\n",
    "</script>"
   ]
  }
 ],
 "metadata": {
  "kernelspec": {
   "display_name": "Python 3",
   "language": "python",
   "name": "python3"
  },
  "language_info": {
   "codemirror_mode": {
    "name": "ipython",
    "version": 3
   },
   "file_extension": ".py",
   "mimetype": "text/x-python",
   "name": "python",
   "nbconvert_exporter": "python",
   "pygments_lexer": "ipython3",
   "version": "3.10.12"
  },
  "orig_nbformat": 4
 },
 "nbformat": 4,
 "nbformat_minor": 2
}
