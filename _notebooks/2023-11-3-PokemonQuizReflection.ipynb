{
 "cells": [
  {
   "cell_type": "markdown",
   "metadata": {},
   "source": [
    "---\n",
    "toc: true\n",
    "comments: true\n",
    "layout: post\n",
    "title: Pokemon Quiz From Passion Project\n",
    "description:  This is another one of the main things I worked on for my group's passion projects, the pokemon quiz. \n",
    "courses: { compsci: {week: 8} }\n",
    "type: tangibles\n",
    "---"
   ]
  },
  {
   "cell_type": "markdown",
   "metadata": {},
   "source": [
    "> My pokemom quiz consisted of 3 parts, the html, the javascript, and the css\n",
    "> Much like the pokemon game, the html file was the outline of the quiz and basically was the blueprint that made this quiz. This html code called the javascript code and essentially was the brains of the operation to code the logic of the quiz and how it would all work.\n",
    "> Finally, the css part of the code. The html calls this file to make the page/quiz look good. So, it calls this css file to design the quiz and make it visualling appealing to the veiwers. "
   ]
  },
  {
   "cell_type": "markdown",
   "metadata": {},
   "source": [
    "> First up, the html code. This code is just the outline of the website and calls the main files that will be coding this prokect."
   ]
  },
  {
   "cell_type": "code",
   "execution_count": null,
   "metadata": {
    "vscode": {
     "languageId": "html"
    }
   },
   "outputs": [],
   "source": [
    "<html>\n",
    "\n",
    "<head>\n",
    "    <link rel=\"stylesheet\" type=\"text/css\" href=\"QuizStyle.css\">\n",
    "</head>\n",
    "\n",
    "<body>\n",
    "    <div class=\"quiz-container\">\n",
    "        <h1>Test Your Pokemon Knowledge</h1>\n",
    "        <p id=\"question\"></p>\n",
    "        <div id=\"options\"></div>\n",
    "        <button id=\"next-button\" disabled>Next</button>\n",
    "        <p id=\"result\"></p>\n",
    "    </div>\n",
    "    <script src=\"Qscript.js\"></script>\n",
    "</body>\n",
    "\n",
    "</html>"
   ]
  },
  {
   "cell_type": "markdown",
   "metadata": {},
   "source": [
    "> For the javascript part of the quiz, it essentially organizes the quiz and displays a multiple choice quiz based on pokemon. It loads questions and options, allowing the user to select an answer by clicking on a button. After answering, it checks the response, updates the score, and disables further interactions with the options. The user can then proceed to the next question, and the final score is displayed when all questions have been answered."
   ]
  },
  {
   "cell_type": "code",
   "execution_count": null,
   "metadata": {
    "vscode": {
     "languageId": "javascript"
    }
   },
   "outputs": [],
   "source": [
    "const questions = [\n",
    "  {\n",
    "      question: \"What is the first Pokémon ever created?\",\n",
    "      options: [\"Bulbasaur\", \"Charmander\", \"Pikachu\", \"Rhydon\"],\n",
    "      answer: \"Rhydon\",\n",
    "  },\n",
    "  {\n",
    "      question: \"Which type is strong against Water-type Pokémon?\",\n",
    "      options: [\"Fire\", \"Electric\", \"Grass\", \"Psychic\"],\n",
    "      answer: \"Grass\",\n",
    "  },\n",
    "  {\n",
    "      question: \"What device do trainers use to access a database of all their Pokemon?\",\n",
    "      options: [\"Pokélist\", \"Pokédex\", \"Pokémon Training Chart\", \"Poké-Catalog\"],\n",
    "      answer: \"Pokédex\",\n",
    "  },\n",
    "  {\n",
    "      question: \"As of October 2023, how many Pokémon generations are there?\",\n",
    "      options: [\"6\",\"7\",\"9\",\"13\"],\n",
    "      answer: \"9\",\n",
    "  },\n",
    "  {\n",
    "      question: \"Who gave Ash Ketchum his first Pokémon?\",\n",
    "      options: [\"Professor Oak\", \"Nurse Joy\", \"Professor X\", \"Mr. Fox\"],\n",
    "      answer: \"Professor Oak\",\n",
    "  },\n",
    "  {\n",
    "      question: \"Who does Pikachu evolve into?\",\n",
    "      options: [\"Pichu\", \"Chuchu\", \"Pekuchi\",\"Raichu\"],\n",
    "      answer: \"Raichu\",\n",
    "  },\n",
    "  {\n",
    "      question: \"What is the first Pokémon the Pokédex? (Not first created)\",\n",
    "      options: [\"Bulbasaur\", \"Pikachu\", \"Charizard\", \"Squirtle\"],\n",
    "      answer: \"Bulbasaur\",\n",
    "  },\n",
    "  {\n",
    "      question: \"How do you make a ditto return to its normal form?\",\n",
    "      options: [\"Make it cry\", \"Give it food\", \"Beat it in a battle\", \"Make it laugh\"],\n",
    "      answer: \"Make it laugh\",\n",
    "  },\n",
    "  {\n",
    "      question: \"What Pokemon was Ash's first catch?\",\n",
    "      options: [\"Pikachu\",\"Squirtle\",\"Caterpie\",\"Magicarp\"],\n",
    "      answer: \"Caterpie\",\n",
    "  },\n",
    "  {\n",
    "      question: \"Which of these Pokémon is a fairy type\",\n",
    "      options: [\"Jigglypuff\", \"Diglett\", \"Eevee\", \"Snorlax\"],\n",
    "      answer: \"Jigglypuff\",\n",
    "  },\n",
    "  // Add more questions\n",
    "];\n",
    "\n",
    "let currentQuestionIndex = 0;\n",
    "let score = 0;\n",
    "\n",
    "const questionElement = document.getElementById(\"question\");\n",
    "const optionsList = document.getElementById(\"options\");\n",
    "const resultElement = document.getElementById(\"result\");\n",
    "const nextButton = document.getElementById(\"next-button\");\n",
    "\n",
    "function loadQuestion() {\n",
    "  const question = questions[currentQuestionIndex];\n",
    "  questionElement.textContent = question.question;\n",
    "\n",
    "  optionsList.innerHTML = \"\";\n",
    "  question.options.forEach((option, index) => {\n",
    "      const optionButton = document.createElement(\"button\");\n",
    "      optionButton.textContent = option;\n",
    "      optionButton.classList.add(\"option\");\n",
    "      optionButton.addEventListener(\"click\", () => checkAnswer(option));\n",
    "      optionsList.appendChild(optionButton);\n",
    "  });\n",
    "}\n",
    "\n",
    "function checkAnswer(selectedOption) {\n",
    "  const question = questions[currentQuestionIndex];\n",
    "  if (selectedOption === question.answer) {\n",
    "      score++;\n",
    "  }\n",
    "  optionsList.querySelectorAll(\".option\").forEach((option) => {\n",
    "      option.disabled = true;\n",
    "  });\n",
    "  resultElement.textContent = `Your score: ${score} / ${currentQuestionIndex + 1}`;\n",
    "  nextButton.disabled = false;\n",
    "}\n",
    "\n",
    "function nextQuestion() {\n",
    "  if (currentQuestionIndex < questions.length - 1) {\n",
    "      currentQuestionIndex++;\n",
    "      loadQuestion();\n",
    "      resultElement.textContent = \"\";\n",
    "      nextButton.disabled = true;\n",
    "      optionsList.querySelectorAll(\".option\").forEach((option) => {\n",
    "          option.disabled = false;\n",
    "      });\n",
    "  } else {\n",
    "      resultElement.textContent = `Quiz completed. Your final score: ${score} / ${questions.length}`;\n",
    "  }\n",
    "}\n",
    "\n",
    "nextButton.addEventListener(\"click\", nextQuestion);\n",
    "loadQuestion();"
   ]
  },
  {
   "cell_type": "markdown",
   "metadata": {},
   "source": [
    "> Finnally, the css part of the quiz. It sets the overall body style with a specific font and background color. The quiz container is styled to have a centered, light background, rounded corners, and a subtle shadow. The heading is colored in orange, and the list of options is formatted with padding and margins. Buttons are styled with an orange background, white text, rounded edges, and a hover effect. Disabled buttons have a gray background and a disabled cursor. The \"result\" element is styled to be bold."
   ]
  },
  {
   "cell_type": "code",
   "execution_count": null,
   "metadata": {
    "vscode": {
     "languageId": "ruby"
    }
   },
   "outputs": [],
   "source": [
    "body {\n",
    "    font-family: Arial, sans-serif;\n",
    "    text-align: center;\n",
    "    background-color: #f2f2f2;\n",
    "}\n",
    "\n",
    ".quiz-container {\n",
    "    background-color: #ffffff42;\n",
    "    max-width: 400px;\n",
    "    margin: 0 auto;\n",
    "    padding: 20px;\n",
    "    border: 1px solid #ddd;\n",
    "    box-shadow: 0 2px 4px rgba(0, 0, 0, 0.1);\n",
    "    border-radius: 5px;\n",
    "}\n",
    "\n",
    "h1 {\n",
    "    color: #ffbb00;\n",
    "}\n",
    "\n",
    "#options-list {\n",
    "    list-style: none;\n",
    "    padding: 0;\n",
    "}\n",
    "\n",
    "#options-list li {\n",
    "    margin: 5px;\n",
    "}\n",
    "\n",
    "button {\n",
    "    background-color: #ffbb00;\n",
    "    color: #fff;\n",
    "    padding: 8px 20px;\n",
    "    border: none;\n",
    "    border-radius: 20px;\n",
    "    cursor: pointer;\n",
    "    transition: background-color 0.3s;\n",
    "}\n",
    "\n",
    "button:disabled {\n",
    "    background-color: #ccc;\n",
    "    cursor: not-allowed;\n",
    "}\n",
    "\n",
    "button:hover {\n",
    "    background-color: #fc7100;\n",
    "}\n",
    "\n",
    "#result {\n",
    "    font-weight: bold;\n",
    "}\n"
   ]
  }
 ],
 "metadata": {
  "kernelspec": {
   "display_name": "Python 3",
   "language": "python",
   "name": "python3"
  },
  "language_info": {
   "codemirror_mode": {
    "name": "ipython",
    "version": 3
   },
   "file_extension": ".py",
   "mimetype": "text/x-python",
   "name": "python",
   "nbconvert_exporter": "python",
   "pygments_lexer": "ipython3",
   "version": "3.10.12"
  },
  "orig_nbformat": 4
 },
 "nbformat": 4,
 "nbformat_minor": 2
}
