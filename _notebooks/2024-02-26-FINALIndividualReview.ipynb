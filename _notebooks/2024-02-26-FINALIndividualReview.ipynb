{
 "cells": [
  {
   "cell_type": "markdown",
   "metadata": {},
   "source": [
    "---\n",
    "toc: true\n",
    "comments: true\n",
    "layout: post\n",
    "title: FINAL Individual Review\n",
    "courses: { compsci: {week: 26} }\n",
    "type: tangibles\n",
    "---"
   ]
  },
  {
   "cell_type": "markdown",
   "metadata": {},
   "source": [
    "## My Individual Feature"
   ]
  },
  {
   "cell_type": "markdown",
   "metadata": {},
   "source": [
    "<img src=\"https://jbaza12.github.io/JaredsBlog/images/Screenshot 2024-02-26 112536.png\">\n",
    "<img src=\"https://jbaza12.github.io/JaredsBlog/images/Screenshot 2024-02-26 114030.png\">\n",
    "<img src=\"https://jbaza12.github.io/JaredsBlog/images/Screenshot 2024-02-26 114055.png\">\n",
    "\n"
   ]
  },
  {
   "cell_type": "markdown",
   "metadata": {},
   "source": [
    "> My feature is a search bar built into the website's frontend. It's a handy tool that allows users to search for specific topics or keywords within our database of posts and questions. Users simply type their search query into the bar, hit enter, and the magic happens. The frontend sends the query to the backend, which sifts through all the posts to find matches. These matching posts are then neatly displayed, making it effortless for users to locate relevant content without sorting through unnecessary information. It's a straightforward yet impactful feature that boosts the usability of our application."
   ]
  },
  {
   "cell_type": "markdown",
   "metadata": {},
   "source": [
    "<br>\n",
    "<hr>\n",
    "<br>\n",
    "<h2>Trimester 2 Review</h2>\n",
    "<p>This trimester, I've gained a solid understanding of handling HTTP requests and implementing complex algorithms. It's been a steep learning curve, but each coding session has been an opportunity to grow. I'm proud of the progress I've made and the skills I've developed. Moving forward, I'm eager to tackle new challenges and continue expanding my knowledge in coding. Me and my group collaborated very well with one another and I have learned lots from them. Overall, it's been a fulfilling trimester of growth and discovery.</p>\n",
    "<br>\n",
    "<hr>\n",
    "<br>"
   ]
  },
  {
   "cell_type": "markdown",
   "metadata": {},
   "source": [
    "<html lang=\"en\">\n",
    "<head>\n",
    "<meta charset=\"UTF-8\">\n",
    "<meta name=\"viewport\" content=\"width=device-width, initial-scale=1.0\">\n",
    "<title>Meme Gallery</title>\n",
    "<style>\n",
    "  table {\n",
    "    border-collapse: collapse;\n",
    "    width: 100%;\n",
    "  }\n",
    "  th, td {\n",
    "    border: 1px solid #ddd;\n",
    "    padding: 8px;\n",
    "    text-align: left;\n",
    "  }\n",
    "  th {\n",
    "    background-color: #f2f2f2;\n",
    "  }\n",
    "</style>\n",
    "</head>\n",
    "<body>\n",
    "\n",
    "<h2>Table with explination of code above that satifies collegeboard requirements:</h2>\n",
    "\n",
    "<table>\n",
    "  <thead>\n",
    "    <tr>\n",
    "      <th>College Board</th>\n",
    "      <th>Me</th>\n",
    "    </tr>\n",
    "  </thead>\n",
    "  <tbody>\n",
    "    <tr>\n",
    "      <td>Instructions for input from one of the following: the user, a device, an online data stream, a file.</td>\n",
    "      <td>Users input search queries into the search bar to find relevant content within the chat interface. This input is typically in the form of keywords or phrases related to the information they are seeking. Users may also interact with the search bar via device input such as typing on a keyboard or tapping on a touchscreen.</td>\n",
    "    </tr>\n",
    "    <tr>\n",
    "      <td>Use of at least one list (or other collection type) to represent a collection of data that is stored and used to manage program complexity and help fulfill the user's purpose.</td>\n",
    "      <td>The search functionality relies on collections of data to perform its task efficiently. These collections may include a list of all chat messages, a list of user-generated questions, and responses, or a structured database containing user information and chat history. The search algorithm scans through these collections to identify matches based on the user's input, returning relevant results to the user's search query.</td>\n",
    "    </tr>\n",
    "    <tr>\n",
    "      <td>At least one procedure that contributed to the program’s intended purpose where you have defined: the name, return type, one or more parameters.</td>\n",
    "      <td><li>Procedure: get\n",
    "<li>Parameters: None\n",
    "<li>Return type: JSON response\n",
    "<li>Purpose: This procedure handles GET requests to retrieve posts from the backend based on different criteria such as post ID, parent post ID, or search string. It returns a JSON response containing the requested posts or an appropriate error message if no posts are found.\n",
    "    <tr>\n",
    "      <td>An algorithm that includes sequencing, selection, and iteration that is in the body of the selected procedure.</td>\n",
    "      <td><li>The 'get' procedure follows a sequence of steps to retrieve posts based on different conditions:\n",
    "<li>It first checks if the request includes an 'id' parameter. If so, it queries the post by ID and returns it if found.\n",
    "<li>If no 'id' parameter is provided, it checks for a 'parentPostId' parameter. If found, it queries posts by the parent post ID and returns them.\n",
    "<li>If neither 'id' nor 'parentPostId' parameters are provided, it checks for a 'searchString' parameter. If found, it filters posts based on the search string and returns matching posts.\n",
    "<li>If none of the specific filters are provided, it returns all posts.\n",
    "    <tr>\n",
    "      <td>Calls to your student-developed procedure.</td>\n",
    "      <td><li>The frontend JavaScript function 'topicSearch' makes a GET request to the backend API, passing the entered search string as a parameter.\n",
    "<li>Example:\n",
    "<li>fetch(\"http://127.0.0.1:8086/api/post/?searchString=\" + enteredTopic, requestOptions)\n",
    "    <tr>\n",
    "      <td>Instructions for output (tactile, audible, visual, or ) based on input and program functionality.</td>\n",
    "      <td><li>Visual: The frontend function 'createTableFromJSON' creates a table dynamically based on the JSON data received from the backend. It displays search results in the table, providing clickable links to view individual posts.\n",
    "<li>Visual: Error messages are displayed visually if the search fails or if there are no matching posts found.\n",
    "<li>Audible: No specific instructions for audible output are provided in the code.\n",
    "    \n"
   ]
  }
 ],
 "metadata": {
  "language_info": {
   "name": "python"
  }
 },
 "nbformat": 4,
 "nbformat_minor": 2
}
