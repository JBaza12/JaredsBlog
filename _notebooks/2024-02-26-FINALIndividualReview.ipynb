{
 "cells": [
  {
   "cell_type": "markdown",
   "metadata": {},
   "source": [
    "---\n",
    "toc: true\n",
    "comments: true\n",
    "layout: post\n",
    "title: FINAL Individual Review\n",
    "courses: { compsci: {week: 20} }\n",
    "type: tangibles\n",
    "---"
   ]
  },
  {
   "cell_type": "markdown",
   "metadata": {},
   "source": [
    "## My Individual Feature"
   ]
  },
  {
   "cell_type": "markdown",
   "metadata": {},
   "source": [
    "<img src=\"http://127.0.0.1:4200/JaredsBlog/images/Screenshot 2024-02-26 112536.png\">\n",
    "<img src=\"http://127.0.0.1:4200/JaredsBlog/images/Screenshot 2024-02-26 114030.png\">\n",
    "<img src=\"http://127.0.0.1:4200/JaredsBlog/images/Screenshot 2024-02-26 114055.png\">\n",
    "\n"
   ]
  },
  {
   "cell_type": "markdown",
   "metadata": {},
   "source": [
    "> My feature is a search bar built into the website's frontend. It's a handy tool that allows users to search for specific topics or keywords within our database of posts and questions. Users simply type their search query into the bar, hit enter, and the magic happens. The frontend sends the query to the backend, which sifts through all the posts to find matches. These matching posts are then neatly displayed, making it effortless for users to locate relevant content without sorting through unnecessary information. It's a straightforward yet impactful feature that boosts the usability of our application."
   ]
  },
  {
   "cell_type": "markdown",
   "metadata": {},
   "source": []
  }
 ],
 "metadata": {
  "language_info": {
   "name": "python"
  }
 },
 "nbformat": 4,
 "nbformat_minor": 2
}
