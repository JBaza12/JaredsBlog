{
 "cells": [
  {
   "cell_type": "markdown",
   "metadata": {},
   "source": [
    "---\n",
    "toc: true\n",
    "comments: true\n",
    "layout: post\n",
    "title: Important Commits\n",
    "description:  These are the main commits I commited.\n",
    "courses: { compsci: {week: 8} }\n",
    "type: tangibles\n",
    "---"
   ]
  },
  {
   "cell_type": "markdown",
   "metadata": {},
   "source": [
    "# Commits On Frontend:\n",
    "> GameUpdate\n",
    "- Link: https://github.com/RonitT1234/JARV_Frontend/commit/82ef76080dd13263a55e5fb99c993fd537e00df8\n",
    "> GameFINAL\n",
    "- Link: https://github.com/RonitT1234/JARV_Frontend/commit/0a0e45298aa3934af67b73f5cdbd1fb6a70424e1\n",
    "> QuizUpdate\n",
    "- Link: https://github.com/RonitT1234/JARV_Frontend/commit/8ef2e113d29eecd9d2a331b9f277e9100a36f6bc\n",
    "\n",
    "# Commits On Student Repository:\n",
    "> First 3 Commits: UpdateBlog, Labnotebook, Transfer info\n",
    "- Link: https://github.com/JBaza12/JaredsBlog/actions?page=2"
   ]
  }
 ],
 "metadata": {
  "kernelspec": {
   "display_name": "Python 3",
   "language": "python",
   "name": "python3"
  },
  "language_info": {
   "codemirror_mode": {
    "name": "ipython",
    "version": 3
   },
   "file_extension": ".py",
   "mimetype": "text/x-python",
   "name": "python",
   "nbconvert_exporter": "python",
   "pygments_lexer": "ipython3",
   "version": "3.10.12"
  },
  "orig_nbformat": 4
 },
 "nbformat": 4,
 "nbformat_minor": 2
}
