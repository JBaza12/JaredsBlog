{
 "cells": [
  {
   "cell_type": "raw",
   "metadata": {},
   "source": [
    "---\n",
    "title: Javascript Data Types/Lists\n",
    "hide: True\n",
    "description: A Tech Talk on javascript data types and how to use with lists\n",
    "type: ccc\n",
    "permalink: /basics/datatypes\n",
    "author: Rohan Juneja\n",
    "---"
   ]
  },
  {
   "cell_type": "raw",
   "metadata": {},
   "source": [
    "{% include nav_basics.html %}"
   ]
  },
  {
   "cell_type": "markdown",
   "metadata": {},
   "source": [
    "# Hacks\n",
    "Create a JavaScript snippet below with the following requirements:\n",
    "- Create an object representing yourself as a person. The object should have keys for your name, age, current classes, interests, and two more of your choosing\n",
    "- Your object must contain keys whose values are arrays. The arrays can be arrays of strings, numbers, or even other objects if you would like\n",
    "- Print the entire object with console.log after declaring it\n",
    "- Manipulate the arrays within the object and print the entire object with console.log as well as the specific changed key afterwards\n",
    "- Perform mathematical operations on fields in your object such as +, -, /, % etc. and print the results with console.log along with a message contextualizing them\n",
    "- Use typeof to determine the types of at least 3 fields in your object"
   ]
  },
  {
   "cell_type": "code",
   "execution_count": 4,
   "metadata": {
    "vscode": {
     "languageId": "javascript"
    }
   },
   "outputs": [
    {
     "data": {
      "application/javascript": "// Use the prompt function to get user input for variables a and b\nlet a = parseFloat(prompt(\"Enter the value for a:\"));\nlet b = parseFloat(prompt(\"Enter the value for b:\"));\n\n// Check if both inputs are valid numbers\nif (!isNaN(a) && !isNaN(b)) {\n  // Compare the variables using if statements\n  if (a > b) {\n    console.log(\"a is greater\");\n  } else if (b > a) {\n    console.log(\"b is greater\");\n  } else {\n    console.log(\"both are equal\");\n  }\n} else {\n  console.log(\"Please enter valid numeric values for a and b.\");\n}\n",
      "text/plain": [
       "<IPython.core.display.Javascript object>"
      ]
     },
     "metadata": {},
     "output_type": "display_data"
    }
   ],
   "source": [
    "%%js\n",
    "/Create an object representing myself as a person\n",
    "const person = {\n",
    "  name: \"Batman\",\n",
    "  age: 36,\n",
    "  villans: [\"Penguin\", \"Joker\", \"Two-Face\", \"Bane\"],\n",
    "  interests: [\"Fighting Crime\", \"Justice\", \"Balling out\",],\n",
    "  heightInInches: 75,\n",
    "  weightInPounds: 172,\n",
    "};\n",
    "// Print the entire object\n",
    "console.log(\"Original Object:\");\n",
    "console.log(person);\n",
    "// Manipulate the arrays within the object\n",
    "person.villans.push(\"The Riddler\");\n",
    "person.interests.shift();\n",
    "// Print the entire object after manipulation\n",
    "console.log(\"\\nObject after Manipulation:\");\n",
    "console.log(person);\n",
    "// Perform mathematical operations on fields\n",
    "const bmi = (person.weightInPounds / (person.heightInInches * person.heightInInches)) * 703;\n",
    "const yearsUntilRetirement = 65 - person.age;\n",
    "// Print results with context\n",
    "console.log(\"\\nCalculations:\");\n",
    "console.log(`BMI: ${bmi.toFixed(2)}`);\n",
    "console.log(`Years until retirement: ${yearsUntilRetirement}`);\n",
    "// Use typeof to determine field types\n",
    "console.log(\"\\nField Types:\");\n",
    "console.log(`Name is a ${typeof person.name}`);\n",
    "console.log(`Age is a ${typeof person.age}`);\n",
    "console.log(`Interests is an array: ${Array.isArray(person.interests)}`);"
   ]
  }
 ],
 "metadata": {
  "kernelspec": {
   "display_name": "Python 3 (ipykernel)",
   "language": "python",
   "name": "python3"
  },
  "language_info": {
   "codemirror_mode": {
    "name": "ipython",
    "version": 3
   },
   "file_extension": ".py",
   "mimetype": "text/x-python",
   "name": "python",
   "nbconvert_exporter": "python",
   "pygments_lexer": "ipython3",
   "version": "3.10.12"
  }
 },
 "nbformat": 4,
 "nbformat_minor": 4
}
