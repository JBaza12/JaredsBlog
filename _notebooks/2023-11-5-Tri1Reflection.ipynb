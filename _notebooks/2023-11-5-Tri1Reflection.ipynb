{
 "cells": [
  {
   "cell_type": "markdown",
   "metadata": {},
   "source": [
    "---\n",
    "toc: true\n",
    "comments: true\n",
    "layout: post\n",
    "title: Trimester 1 Reflection\n",
    "description:  This is a reflection of how trimester 1 went for me\n",
    "courses: { compsci: {week: 8} }\n",
    "type: tangibles\n",
    "---"
   ]
  },
  {
   "cell_type": "markdown",
   "metadata": {},
   "source": [
    "# Trimester 1 Reflection - An Unforgettable Journey\n",
    "\n",
    "Trimester 1 has been an incredible journey filled with memorable experiences, valuable lessons, and remarkable accomplishments. As I reflect on the past few months, I'm filled with gratitude for the opportunities I've had to learn and grow.\n",
    "\n",
    "## Memories and Learnings\n",
    "\n",
    "The highlight of Trimester 1 was undoubtedly our final project. Our mission was to create a Pokemon website that not only featured a Pokemon API but also included an exciting game, an interactive quiz, and a pack opening simulation. This project was both challenging and immensely rewarding. I can vividly remember the countless hours of brainstorming, coding, and testing, as well as the moments of sheer joy when we saw our website come to life. This experience taught me the importance of teamwork, communication, and creative problem-solving.\n",
    "\n",
    "Student teaching was another remarkable experience. We had the chance to teach our classmates about \"Developing Programs.\" This opportunity not only enhanced my understanding of the topic but also allowed me to appreciate the art of effective communication. Witnessing my peers engage and learn from my presentation was truly fulfilling.\n",
    "\n",
    "One of the standout memories from Trimester 1 was the chance to meet new people and collaborate with them. In our programming class, working with classmates on various projects and assignments was a fantastic experience. It allowed me to build connections and appreciate the value of teamwork. Meeting new people in the classroom was exciting. I got to know classmates from various backgrounds, and together, we shared our ideas and insights. This diversity enriched our discussions and helped us approach problems from different angles. Collaborating on group projects was a significant part of this trimester. Whether it was brainstorming ideas for our final project, debugging code as a team, or preparing for student teaching sessions, working together proved to be a powerful way to achieve our goals. It taught me the importance of effective communication within a group and leveraging everyone's strengths.\n",
    "\n",
    "## Future Learning Goals\n",
    "\n",
    "As I eagerly look ahead to future trimesters, there are several learning goals I intend to pursue:\n",
    "\n",
    "- **Deepening Programming Skills:** Trimester 1 provided a strong foundation, but I aspire to delve even deeper into the world of programming. My goal is to master additional programming languages and explore more advanced concepts.\n",
    "\n",
    "- **Effective Time Management:** Trimester 1 revealed the significance of efficient time management. I aim to acquire better time organization skills to handle multiple assignments and projects successfully.\n",
    "\n",
    "- **Embracing Continuous Improvement:** My commitment is to maintain a growth mindset. I'm determined to confront challenges head-on, learn from my mistakes, and continuously seek opportunities for self-improvement.\n",
    "\n",
    "## Opportunities for Growth\n",
    "\n",
    "The coming trimesters offer numerous opportunities for growth. I plan to participate in extracurricular activities and collaborative projects that extend beyond the curriculum. These endeavors will not only expand my knowledge but also refine my problem-solving abilities and foster teamwork.\n",
    "\n",
    "In conclusion, Trimester 1 has been an invaluable chapter in my academic journey. The memories, lessons, and experiences from this period have laid a strong foundation for my future endeavors. With enthusiasm, I look forward to the growth and learning opportunities awaiting me in the next trimesters. This journey is an inspiring exploration of knowledge and self-improvement, and I'm excited to embrace it wholeheartedly."
   ]
  }
 ],
 "metadata": {
  "kernelspec": {
   "display_name": "Python 3",
   "language": "python",
   "name": "python3"
  },
  "language_info": {
   "codemirror_mode": {
    "name": "ipython",
    "version": 3
   },
   "file_extension": ".py",
   "mimetype": "text/x-python",
   "name": "python",
   "nbconvert_exporter": "python",
   "pygments_lexer": "ipython3",
   "version": "3.10.12"
  },
  "orig_nbformat": 4
 },
 "nbformat": 4,
 "nbformat_minor": 2
}
